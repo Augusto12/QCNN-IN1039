{
 "cells": [
  {
   "cell_type": "markdown",
   "metadata": {},
   "source": [
    "# Multiclass classification"
   ]
  },
  {
   "cell_type": "code",
   "execution_count": 1,
   "metadata": {},
   "outputs": [],
   "source": [
    "import pennylane as qml\n",
    "from pennylane import numpy as np\n",
    "import torch\n",
    "from torch.autograd import Variable\n",
    "import torch.optim as optim"
   ]
  },
  {
   "cell_type": "code",
   "execution_count": 2,
   "metadata": {},
   "outputs": [],
   "source": [
    "np.random.seed(0)\n",
    "torch.manual_seed(0)\n",
    "\n",
    "num_qubits = 2\n",
    "num_classes = 3\n",
    "dev = qml.device(\"default.qubit\", wires = 2)"
   ]
  },
  {
   "cell_type": "markdown",
   "metadata": {},
   "source": [
    "### 1. Data loading and processing"
   ]
  },
  {
   "cell_type": "code",
   "execution_count": 3,
   "metadata": {},
   "outputs": [],
   "source": [
    "from sklearn import datasets\n",
    "from sklearn.decomposition import PCA\n",
    "\n",
    "def load_and_process_data():\n",
    "    iris = datasets.load_iris()\n",
    "    X = iris.data\n",
    "    Y = iris.target\n",
    "    Y1 = np.zeros((len(Y), 2))\n",
    "    \n",
    "    for i in range(len(Y)):\n",
    "        if Y[i] == 0:\n",
    "            Y1[i] = [0,0]\n",
    "        elif Y[i] == 1:\n",
    "            Y1[i] = [0,1]\n",
    "        elif Y[i] == 2:\n",
    "            Y1[i] = [1,0]\n",
    "        elif Y[i] == 3:\n",
    "            Y1[i] = [1,1]\n",
    "    \n",
    "    return X, Y1"
   ]
  },
  {
   "cell_type": "markdown",
   "metadata": {},
   "source": [
    "### 2. Quantum Circuit"
   ]
  },
  {
   "cell_type": "code",
   "execution_count": 4,
   "metadata": {},
   "outputs": [],
   "source": [
    "def layer(W):\n",
    "    for i in range(num_qubits):\n",
    "        qml.Rot(*W[i], wires = i)\n",
    "    qml.CNOT(wires = [0, 1])\n",
    "    qml.CNOT(wires = [1, 0])"
   ]
  },
  {
   "cell_type": "code",
   "execution_count": 28,
   "metadata": {},
   "outputs": [],
   "source": [
    "from pennylane.templates import AmplitudeEmbedding\n",
    "\n",
    "@qml.qnode(dev)\n",
    "def quantum_circuit(weights, x):\n",
    "    AmplitudeEmbedding(x, wires = [0,1], normalize = True)  \n",
    "    for w in weights:\n",
    "        layer(w)\n",
    "    return qml.expval(qml.PauliZ(0)), qml.expval(qml.PauliZ(1))\n",
    "\n",
    "def Variational_classifier(params, x):\n",
    "    weights = params[0]\n",
    "    bias1 = params[1]\n",
    "    bias2 = params[2]\n",
    "    \n",
    "    M1, M2 = quantum_circuit(weights, x)\n",
    "    return [M1 + bias1, M2 + bias2]"
   ]
  },
  {
   "cell_type": "code",
   "execution_count": 40,
   "metadata": {},
   "outputs": [],
   "source": [
    "def cost_fn(params, X, labels):\n",
    "    num_labels = len(labels)\n",
    "    loss = 0\n",
    "    predictions = [Variational_classifier(params, x) for x in X]\n",
    "    for l,p in zip(labels, predictions):\n",
    "        l1, l2, p1, p2 = l[0], l[1], p[0], p[1]\n",
    "        loss += (p1 - l1)**2 + (p2 - l2)**2\n",
    "    loss / num_labels\n",
    "    return loss"
   ]
  },
  {
   "cell_type": "code",
   "execution_count": 30,
   "metadata": {},
   "outputs": [],
   "source": [
    "def accuracy(labels, predictions):\n",
    "    acc = 0\n",
    "    for l,p in zip(labels, hard_predictions):\n",
    "        if np.abs(l - p) < 1e-2:\n",
    "            acc = acc + 1\n",
    "    acc = acc / len(labels)\n",
    "    return acc"
   ]
  },
  {
   "cell_type": "code",
   "execution_count": 37,
   "metadata": {},
   "outputs": [],
   "source": [
    "np.random.seed(0)\n",
    "num_qubits = 2\n",
    "num_layers = 2\n",
    "batch_size = 10\n",
    "lr_adam = 10\n",
    "total_iterations = 200"
   ]
  },
  {
   "cell_type": "code",
   "execution_count": 41,
   "metadata": {},
   "outputs": [],
   "source": [
    "def training(num_layers, steps):\n",
    "    \n",
    "    weights = 0.01 * np.random.randn(num_layers, num_qubits, 3)\n",
    "    bias1 = 0.0\n",
    "    bias2 = 0.0\n",
    "    params = [weights, bias1, bias2]\n",
    "    \n",
    "    opt = qml.NesterovMomentumOptimizer(0.1)\n",
    "    \n",
    "    for i in range(total_iterations):\n",
    "        batch_index = np.random.choice(len(X), size = batch_size)\n",
    "        \n",
    "        X_batch = X[batch_index]\n",
    "        Y_batch = Y[batch_index]\n",
    "        params, cost_new = opt.step_and_cost(lambda p: cost_fn(params, X_batch, Y_batch), params)  \n",
    "        \n",
    "        if i % 10 == 0:\n",
    "            print(\"iteration: \", i, \" cost: \", cost_new)\n",
    "        \n",
    "    return params"
   ]
  },
  {
   "cell_type": "code",
   "execution_count": 42,
   "metadata": {},
   "outputs": [
    {
     "name": "stdout",
     "output_type": "stream",
     "text": [
      "iteration:  0  cost:  7.378325005769595\n",
      "iteration:  10  cost:  7.064260529991362\n",
      "iteration:  20  cost:  7.820376627093106\n",
      "iteration:  30  cost:  6.993499853086551\n",
      "iteration:  40  cost:  7.976598353406987\n",
      "iteration:  50  cost:  5.823325578301573\n",
      "iteration:  60  cost:  8.067993506753579\n",
      "iteration:  70  cost:  5.859802134403784\n",
      "iteration:  80  cost:  7.841334205440442\n",
      "iteration:  90  cost:  7.410295670052437\n",
      "iteration:  100  cost:  7.810780215926297\n",
      "iteration:  110  cost:  7.723779875575849\n",
      "iteration:  120  cost:  7.4288493469254195\n",
      "iteration:  130  cost:  7.332382656733779\n",
      "iteration:  140  cost:  7.4062575688328405\n",
      "iteration:  150  cost:  7.108622663849242\n",
      "iteration:  160  cost:  7.528895713217365\n",
      "iteration:  170  cost:  6.821105224052958\n",
      "iteration:  180  cost:  7.70218236712849\n",
      "iteration:  190  cost:  7.361691082625536\n"
     ]
    }
   ],
   "source": [
    "X, Y = load_and_process_data()\n",
    "params = training(num_layers, total_iterations)"
   ]
  },
  {
   "cell_type": "code",
   "execution_count": null,
   "metadata": {},
   "outputs": [],
   "source": [
    "bias = torch.tensor([0,0])\n",
    "bias[0]"
   ]
  },
  {
   "cell_type": "code",
   "execution_count": null,
   "metadata": {},
   "outputs": [],
   "source": [
    "def func(x):\n",
    "    return torch.tensor([x, x + 1])\n",
    "X_torch = torch.tensor([1,2,3,4])\n",
    "X_stack = torch.stack([func(x) for x in X_torch])\n",
    "print(X_stack)"
   ]
  },
  {
   "cell_type": "code",
   "execution_count": null,
   "metadata": {},
   "outputs": [],
   "source": []
  }
 ],
 "metadata": {
  "kernelspec": {
   "display_name": "Python 3",
   "language": "python",
   "name": "python3"
  },
  "language_info": {
   "codemirror_mode": {
    "name": "ipython",
    "version": 3
   },
   "file_extension": ".py",
   "mimetype": "text/x-python",
   "name": "python",
   "nbconvert_exporter": "python",
   "pygments_lexer": "ipython3",
   "version": "3.7.9"
  }
 },
 "nbformat": 4,
 "nbformat_minor": 4
}
