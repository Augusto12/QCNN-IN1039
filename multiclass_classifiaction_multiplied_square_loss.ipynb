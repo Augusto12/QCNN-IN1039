{
 "cells": [
  {
   "cell_type": "markdown",
   "metadata": {},
   "source": [
    "# Multiclass classification"
   ]
  },
  {
   "cell_type": "code",
   "execution_count": 1,
   "metadata": {},
   "outputs": [],
   "source": [
    "import pennylane as qml\n",
    "from pennylane import numpy as np\n",
    "import torch\n",
    "from torch.autograd import Variable\n",
    "import torch.optim as optim"
   ]
  },
  {
   "cell_type": "code",
   "execution_count": 52,
   "metadata": {},
   "outputs": [],
   "source": [
    "np.random.seed(0)\n",
    "torch.manual_seed(0)\n",
    "\n",
    "num_qubits = 4\n",
    "num_classes = 3\n",
    "dev = qml.device(\"default.qubit\", wires = num_qubits)"
   ]
  },
  {
   "cell_type": "markdown",
   "metadata": {},
   "source": [
    "### Attempt 1 - Angle Encoding and multiplied square loss"
   ]
  },
  {
   "cell_type": "code",
   "execution_count": 53,
   "metadata": {},
   "outputs": [],
   "source": [
    "from sklearn import datasets\n",
    "\n",
    "def load_and_process_data_two_labels():\n",
    "    iris = datasets.load_iris()\n",
    "    X = iris.data\n",
    "    Y = iris.target\n",
    "    Y1 = np.zeros((len(Y), 2))\n",
    "    \n",
    "    for i in range(len(Y)):\n",
    "        if Y[i] == 0:\n",
    "            Y1[i] = [0,0]\n",
    "        elif Y[i] == 1:\n",
    "            Y1[i] = [0,1]\n",
    "        elif Y[i] == 2:\n",
    "            Y1[i] = [1,0]\n",
    "        elif Y[i] == 3:\n",
    "            Y1[i] = [1,1]\n",
    "    \n",
    "    return X, Y1"
   ]
  },
  {
   "cell_type": "markdown",
   "metadata": {},
   "source": [
    "### 2. Quantum Circuit"
   ]
  },
  {
   "cell_type": "code",
   "execution_count": 58,
   "metadata": {},
   "outputs": [],
   "source": [
    "from pennylane.templates import AmplitudeEmbedding\n",
    "from pennylane.templates.layers import StronglyEntanglingLayers\n",
    "\n",
    "@qml.qnode(dev)\n",
    "def quantum_circuit(weights, x):\n",
    "    AmplitudeEmbedding(x, wires = [0,1], normalize = True)  \n",
    "    StronglyEntanglingLayers(weights, wires = range(num_qubits))\n",
    "    return qml.expval(qml.PauliZ(0)), qml.expval(qml.PauliZ(1))\n",
    "\n",
    "def Variational_classifier(params, x):\n",
    "    weights = params[0]\n",
    "    bias1 = params[1]\n",
    "    bias2 = params[2]\n",
    "    \n",
    "    M1, M2 = quantum_circuit(weights, x)\n",
    "    return [M1 + bias1, M2 + bias2]"
   ]
  },
  {
   "cell_type": "code",
   "execution_count": 59,
   "metadata": {},
   "outputs": [],
   "source": [
    "def cost_fn(params, X, labels):\n",
    "    num_labels = len(labels)\n",
    "    loss = 0\n",
    "    predictions = [Variational_classifier(params, x) for x in X]\n",
    "    for l,p in zip(labels, predictions):\n",
    "        l1, l2, p1, p2 = l[0], l[1], p[0], p[1]\n",
    "        loss += (p1 - l1)**2 + (p2 - l2)**2\n",
    "    loss / num_labels\n",
    "    return loss"
   ]
  },
  {
   "cell_type": "code",
   "execution_count": 60,
   "metadata": {},
   "outputs": [],
   "source": [
    "def accuracy(labels, predictions):\n",
    "    acc = 0\n",
    "    for l,p in zip(labels, hard_predictions):\n",
    "        if np.abs(l - p) < 1e-2:\n",
    "            acc = acc + 1\n",
    "    acc = acc / len(labels)\n",
    "    return acc"
   ]
  },
  {
   "cell_type": "code",
   "execution_count": 61,
   "metadata": {},
   "outputs": [],
   "source": [
    "np.random.seed(0)\n",
    "num_qubits = 4\n",
    "num_layers = 4\n",
    "batch_size = 10\n",
    "lr_adam = 10\n",
    "total_iterations = 200"
   ]
  },
  {
   "cell_type": "code",
   "execution_count": 62,
   "metadata": {},
   "outputs": [],
   "source": [
    "def training(num_layers, steps):\n",
    "    \n",
    "    weights = 0.01 * np.random.randn(num_layers, num_qubits, 3)\n",
    "    bias1 = 0.0\n",
    "    bias2 = 0.0\n",
    "    params = [weights, bias1, bias2]\n",
    "    \n",
    "    opt = qml.NesterovMomentumOptimizer(0.1)\n",
    "    \n",
    "    for i in range(total_iterations):\n",
    "        batch_index = np.random.choice(len(X), size = batch_size)\n",
    "        \n",
    "        X_batch = X[batch_index]\n",
    "        Y_batch = Y[batch_index]\n",
    "        params, cost_new = opt.step_and_cost(lambda p: cost_fn(params, X_batch, Y_batch), params)  \n",
    "        \n",
    "        if i % 10 == 0:\n",
    "            print(\"iteration: \", i, \" cost: \", cost_new)\n",
    "        \n",
    "    return params"
   ]
  },
  {
   "cell_type": "code",
   "execution_count": 63,
   "metadata": {},
   "outputs": [
    {
     "name": "stdout",
     "output_type": "stream",
     "text": [
      "iteration:  0  cost:  6.173404219479707\n",
      "iteration:  10  cost:  5.357248527573184\n",
      "iteration:  20  cost:  4.559488981620513\n",
      "iteration:  30  cost:  4.96044624939569\n",
      "iteration:  40  cost:  6.170163416933162\n",
      "iteration:  50  cost:  3.1097986795770796\n",
      "iteration:  60  cost:  5.907569542966045\n",
      "iteration:  70  cost:  8.346247848119914\n",
      "iteration:  80  cost:  7.291827405050984\n",
      "iteration:  90  cost:  5.761092996256702\n",
      "iteration:  100  cost:  2.7674767903431476\n",
      "iteration:  110  cost:  6.5596714019530005\n",
      "iteration:  120  cost:  5.863357625530661\n",
      "iteration:  130  cost:  7.079423826741692\n",
      "iteration:  140  cost:  6.222805062000653\n",
      "iteration:  150  cost:  6.150025538451837\n",
      "iteration:  160  cost:  7.671461581767906\n",
      "iteration:  170  cost:  4.042409970477629\n",
      "iteration:  180  cost:  3.043397690965807\n",
      "iteration:  190  cost:  4.080831707873828\n"
     ]
    }
   ],
   "source": [
    "X, Y = load_and_process_data()\n",
    "params = training(num_layers, total_iterations)"
   ]
  },
  {
   "cell_type": "code",
   "execution_count": null,
   "metadata": {},
   "outputs": [],
   "source": []
  }
 ],
 "metadata": {
  "kernelspec": {
   "display_name": "Python 3",
   "language": "python",
   "name": "python3"
  },
  "language_info": {
   "codemirror_mode": {
    "name": "ipython",
    "version": 3
   },
   "file_extension": ".py",
   "mimetype": "text/x-python",
   "name": "python",
   "nbconvert_exporter": "python",
   "pygments_lexer": "ipython3",
   "version": "3.7.9"
  }
 },
 "nbformat": 4,
 "nbformat_minor": 4
}
