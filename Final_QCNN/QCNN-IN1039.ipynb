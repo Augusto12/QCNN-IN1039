{
 "cells": [
  {
   "cell_type": "code",
   "execution_count": 1,
   "id": "4726b8e6",
   "metadata": {},
   "outputs": [],
   "source": [
    "import Benchmarking"
   ]
  },
  {
   "cell_type": "code",
   "execution_count": null,
   "id": "5e838342",
   "metadata": {},
   "outputs": [],
   "source": [
    "Unitaries = ['U_SU4']\n",
    "U_num_params = [15]\n",
    "Encodings = ['resize65536']\n",
    "dataset = 'mnist'\n",
    "classes = [0,1]\n",
    "binary = False\n",
    "cost_fn = 'cross_entropy'\n",
    "\n",
    "Benchmarking.Benchmarking(dataset, classes, Unitaries, U_num_params, Encodings, circuit='QCNN', cost_fn= cost_fn, binary=binary)\n"
   ]
  }
 ],
 "metadata": {
  "kernelspec": {
   "display_name": "Python 3",
   "language": "python",
   "name": "python3"
  },
  "language_info": {
   "codemirror_mode": {
    "name": "ipython",
    "version": 3
   },
   "file_extension": ".py",
   "mimetype": "text/x-python",
   "name": "python",
   "nbconvert_exporter": "python",
   "pygments_lexer": "ipython3",
   "version": "3.6.9"
  }
 },
 "nbformat": 4,
 "nbformat_minor": 5
}
