{
 "cells": [
  {
   "cell_type": "code",
   "execution_count": null,
   "id": "9c1a325a",
   "metadata": {},
   "outputs": [],
   "source": [
    "!rm -rf QCNN-IN1039\n",
    "!git clone --branch 16-bits https://github.com/Augusto12/QCNN-IN1039.git\n",
    "%cd QCNN-1039/Final_QCNN\n",
    "!mkdir Result\n",
    "!pip install pennylane==0.15.0\n",
    "!python3 result.py"
   ]
  }
 ],
 "metadata": {
  "kernelspec": {
   "display_name": "Python 3",
   "language": "python",
   "name": "python3"
  },
  "language_info": {
   "codemirror_mode": {
    "name": "ipython",
    "version": 3
   },
   "file_extension": ".py",
   "mimetype": "text/x-python",
   "name": "python",
   "nbconvert_exporter": "python",
   "pygments_lexer": "ipython3",
   "version": "3.6.9"
  }
 },
 "nbformat": 4,
 "nbformat_minor": 5
}
