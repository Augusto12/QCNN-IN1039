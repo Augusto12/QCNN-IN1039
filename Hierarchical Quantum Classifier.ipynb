{
 "cells": [
  {
   "cell_type": "markdown",
   "metadata": {},
   "source": [
    "# Hierarchical Quantum Classifier"
   ]
  },
  {
   "cell_type": "markdown",
   "metadata": {},
   "source": [
    "Code for paper \"Hierarchical Quantum Classifier\" (2018 Grant et al.). Investigate Tree Tensor Network (TTN) and Multi-scale Entanglement Renormalization Ansatz (MERA) structures.\n",
    "In this code, we investigate how different unitary ansatze effects the results of the TTN circuit structures."
   ]
  },
  {
   "cell_type": "code",
   "execution_count": 1,
   "metadata": {},
   "outputs": [],
   "source": [
    "import pennylane as qml\n",
    "from pennylane import numpy as np"
   ]
  },
  {
   "cell_type": "markdown",
   "metadata": {},
   "source": [
    "### 1. Data loading and processing"
   ]
  },
  {
   "cell_type": "markdown",
   "metadata": {},
   "source": [
    "MNIST data loading and processing procedures."
   ]
  },
  {
   "cell_type": "code",
   "execution_count": 3,
   "metadata": {},
   "outputs": [],
   "source": [
    "classes = [0, 1]"
   ]
  },
  {
   "cell_type": "code",
   "execution_count": 4,
   "metadata": {},
   "outputs": [],
   "source": [
    "import tensorflow as tf\n",
    "from sklearn import decomposition\n",
    "from sklearn.preprocessing import StandardScaler\n",
    "from sklearn.decomposition import PCA\n",
    "from tensorflow.keras.models import Sequential\n",
    "from tensorflow.keras.layers import Dense, Dropout, BatchNormalization, Activation\n",
    "from tensorflow.keras.models import Model\n",
    "from tensorflow.keras import layers, losses\n",
    "\n",
    "def data_load_and_process(classes = [0,1], feature_reduction = 'resize256', label01 = False):\n",
    "    \n",
    "    (x_train, y_train), (x_test, y_test) = tf.keras.datasets.mnist.load_data()\n",
    "    x_train, x_test = x_train[..., np.newaxis]/255.0, x_test[..., np.newaxis]/255.0 #normalize the data\n",
    "    \n",
    "    x_train_filter_01 = np.where((y_train == classes[0]) | (y_train == classes[1]))\n",
    "    x_test_filter_01 = np.where((y_test == classes[0]) | (y_test == classes[1]))\n",
    "    \n",
    "    x_train_01, x_test_01 = x_train[x_train_filter_01], x_test[x_test_filter_01]\n",
    "    y_train_01, y_test_01 = y_train[x_train_filter_01], y_test[x_test_filter_01]\n",
    "    \n",
    "    if label01 == True:\n",
    "        y_train_01 = [1 if y ==classes[0] else 0 for y in y_train_01]\n",
    "        y_test_01 = [1 if y ==classes[0] else 0 for y in y_test_01]\n",
    "    elif label01 == False:\n",
    "        y_train_01 = [1 if y ==classes[0] else -1 for y in y_train_01]\n",
    "        y_test_01 = [1 if y ==classes[0] else -1 for y in y_test_01]\n",
    "        \n",
    "    \n",
    "    if feature_reduction == 'resize256':   \n",
    "        x_train_01 = tf.image.resize(x_train_01[:], (256, 1)).numpy()\n",
    "        x_test_01 = tf.image.resize(x_test_01[:], (256, 1)).numpy()\n",
    "        x_train_01, x_test_01 = tf.squeeze(x_train_01), tf.squeeze(x_test_01) \n",
    "        return x_train_01, x_test_01, y_train_01, y_test_01\n",
    "    \n",
    "    elif feature_reduction == 'pca8':\n",
    "        x_train_01 = tf.image.resize(x_train_01[:], (784, 1)).numpy()\n",
    "        x_test_01 = tf.image.resize(x_test_01[:], (784, 1)).numpy()\n",
    "        x_train_01, x_test_01 = tf.squeeze(x_train_01), tf.squeeze(x_test_01)\n",
    "        \n",
    "        pca = PCA(8)\n",
    "        x_train_01 = pca.fit_transform(x_train_01)\n",
    "        x_test_01 = pca.transform(x_test_01)\n",
    "        \n",
    "        #Rescale for angle embedding\n",
    "        x_train_01, x_test_01 = (x_train_01 + 10) * (np.pi / 20), (x_test_01 + 10) * (np.pi / 20)\n",
    "        \n",
    "        return x_train_01, x_test_01, y_train_01, y_test_01\n",
    "\n",
    "    elif feature_reduction == 'autoencoder8':\n",
    "        latent_dim = 8 \n",
    "        class Autoencoder(Model):\n",
    "            def __init__(self, latent_dim):\n",
    "                super(Autoencoder, self).__init__()\n",
    "                self.latent_dim = latent_dim   \n",
    "                self.encoder = tf.keras.Sequential([\n",
    "                layers.Flatten(),\n",
    "                  layers.Dense(latent_dim, activation='relu'),\n",
    "                ])\n",
    "                self.decoder = tf.keras.Sequential([\n",
    "                layers.Dense(784, activation='sigmoid'),\n",
    "                layers.Reshape((28, 28))\n",
    "                ])\n",
    "            def call(self, x):\n",
    "                encoded = self.encoder(x)\n",
    "                decoded = self.decoder(encoded)\n",
    "                return decoded\n",
    "        \n",
    "        autoencoder = Autoencoder(latent_dim)\n",
    "        \n",
    "        autoencoder.compile(optimizer='adam', loss=losses.MeanSquaredError())\n",
    "        autoencoder.fit(x_train_01, x_train_01,\n",
    "                epochs=10,\n",
    "                shuffle=True,\n",
    "                validation_data=(x_test_01, x_test_01))\n",
    "        \n",
    "        x_train_01, x_test_01 = autoencoder.encoder(x_train_01).numpy(), autoencoder.encoder(x_test_01).numpy()\n",
    "        #Rescale for Angle Embedding\n",
    "        x_train_01, x_test_01 = x_train_01 * (np.pi / 50), x_test_01 * (np.pi / 50)\n",
    "        \n",
    "        return x_train_01, x_test_01, y_train_01, y_test_01\n",
    "\n"
   ]
  },
  {
   "cell_type": "code",
   "execution_count": 5,
   "metadata": {},
   "outputs": [
    {
     "name": "stdout",
     "output_type": "stream",
     "text": [
      "Train on 12665 samples, validate on 2115 samples\n",
      "Epoch 1/10\n",
      "12665/12665 [==============================] - 1s 61us/sample - loss: 0.0637 - val_loss: 0.0342\n",
      "Epoch 2/10\n",
      "12665/12665 [==============================] - 1s 41us/sample - loss: 0.0296 - val_loss: 0.0267\n",
      "Epoch 3/10\n",
      "12665/12665 [==============================] - 1s 41us/sample - loss: 0.0256 - val_loss: 0.0241\n",
      "Epoch 4/10\n",
      "12665/12665 [==============================] - 1s 40us/sample - loss: 0.0230 - val_loss: 0.0218\n",
      "Epoch 5/10\n",
      "12665/12665 [==============================] - 1s 41us/sample - loss: 0.0212 - val_loss: 0.0205\n",
      "Epoch 6/10\n",
      "12665/12665 [==============================] - 1s 40us/sample - loss: 0.0203 - val_loss: 0.0197\n",
      "Epoch 7/10\n",
      "12665/12665 [==============================] - 1s 41us/sample - loss: 0.0196 - val_loss: 0.0191\n",
      "Epoch 8/10\n",
      "12665/12665 [==============================] - 0s 38us/sample - loss: 0.0191 - val_loss: 0.0186\n",
      "Epoch 9/10\n",
      "12665/12665 [==============================] - 0s 39us/sample - loss: 0.0188 - val_loss: 0.0183\n",
      "Epoch 10/10\n",
      "12665/12665 [==============================] - 0s 38us/sample - loss: 0.0185 - val_loss: 0.0179\n",
      "WARNING:tensorflow:Layer flatten is casting an input tensor from dtype float64 to the layer's dtype of float32, which is new behavior in TensorFlow 2.  The layer has dtype float32 because it's dtype defaults to floatx.\n",
      "\n",
      "If you intended to run this layer in float32, you can safely ignore this warning. If in doubt, this warning is likely only an issue if you are porting a TensorFlow 1.X model to TensorFlow 2.\n",
      "\n",
      "To change all layers to have dtype float64 by default, call `tf.keras.backend.set_floatx('float64')`. To change just this layer, pass dtype='float64' to the layer constructor. If you are the author of this layer, you can disable autocasting by passing autocast=False to the base Layer constructor.\n",
      "\n"
     ]
    },
    {
     "name": "stderr",
     "output_type": "stream",
     "text": [
      "WARNING:tensorflow:Layer flatten is casting an input tensor from dtype float64 to the layer's dtype of float32, which is new behavior in TensorFlow 2.  The layer has dtype float32 because it's dtype defaults to floatx.\n",
      "\n",
      "If you intended to run this layer in float32, you can safely ignore this warning. If in doubt, this warning is likely only an issue if you are porting a TensorFlow 1.X model to TensorFlow 2.\n",
      "\n",
      "To change all layers to have dtype float64 by default, call `tf.keras.backend.set_floatx('float64')`. To change just this layer, pass dtype='float64' to the layer constructor. If you are the author of this layer, you can disable autocasting by passing autocast=False to the base Layer constructor.\n",
      "\n"
     ]
    }
   ],
   "source": [
    "x_train_resize256, x_test_resize256, y_train_resize256, y_test_resize256 = data_load_and_process(classes = classes, feature_reduction = 'resize256', label01 = False)\n",
    "x_train_pca8, x_test_pca8, y_train_pca8, y_test_pca8 = data_load_and_process(classes = classes, feature_reduction = 'pca8', label01 = False)\n",
    "x_train_autoencoder8, x_test_autoencoder8, y_train_autoencoder8, y_test_autoencoder8 = data_load_and_process(classes = classes, feature_reduction = 'autoencoder8', label01 = False)"
   ]
  },
  {
   "cell_type": "markdown",
   "metadata": {},
   "source": [
    "### 2. Hierarchical Quantum Circuits (Tensor Tree Networks)"
   ]
  },
  {
   "cell_type": "code",
   "execution_count": 68,
   "metadata": {},
   "outputs": [],
   "source": [
    "def qubit_encoding(vector):\n",
    "    for i in range(num_wires):\n",
    "        qml.RY(vector[i] * 2, wires = i)\n"
   ]
  },
  {
   "cell_type": "code",
   "execution_count": 69,
   "metadata": {},
   "outputs": [],
   "source": [
    "def U_block_t(params, wires):\n",
    "    qml.RY(params[0], wires = wires[0])\n",
    "    qml.RY(params[0], wires = wires[1])\n",
    "    qml.CNOT(wires = [wires[0], wires[1]])\n",
    "\n",
    "def U_block_b(params, wires):\n",
    "    qml.RY(params[0], wires = wires[0])\n",
    "    qml.RY(params[0], wires = wires[1])\n",
    "    qml.CNOT(wires = [wires[1], wires[0]])"
   ]
  },
  {
   "cell_type": "code",
   "execution_count": 71,
   "metadata": {},
   "outputs": [],
   "source": [
    "num_wires = 8\n",
    "dev = qml.device('default.qubit', wires = num_wires)\n",
    "\n",
    "@qml.qnode(dev)\n",
    "def variational_circuit(params, features):\n",
    "    \n",
    "    qubit_encoding(features)\n",
    "    \n",
    "    #MERA circuit\n",
    "    #D blocks on (1,2), (3,4), (5,6), (7,8)    \n",
    "    U_block_t(params[:2],wires=[1,2])\n",
    "    U_block_b(params[2:4],wires=[3,4])\n",
    "    U_block_t(params[4:6],wires=[5,6])\n",
    "    #U_block_t(params[6:8],wires=[7,8])\n",
    "\n",
    "    #U blocks on (0,1), (2,3), (4,5), (6,7), (8,9)\n",
    "    U_block_t(params[6:8],wires=[0,1])\n",
    "    U_block_d(params[8:10],wires=[2,3])\n",
    "    U_block_t(params[10:12],wires=[4,5])\n",
    "    U_block_d(params[12:14],wires=[6,7])\n",
    "    #U_block_d(params[:2],wires=[1,2])\n",
    "    \n",
    "    #D in the middle\n",
    "    U_block_t(params[14:16],wires=[2,5])\n",
    "    \n",
    "    #Two U's\n",
    "    U_block_t(params[16:18],wires=[1,2])\n",
    "    U_block_d(params[18:20],wires=[5,6])\n",
    "    \n",
    "    #Last U\n",
    "    U_block_t(params[20:22],wires=[2,5])\n",
    "    \n",
    "    return qml.expval(qml.PauliZ(5))"
   ]
  },
  {
   "cell_type": "code",
   "execution_count": 73,
   "metadata": {},
   "outputs": [],
   "source": [
    "def square_loss(labels, predictions):\n",
    "    loss = 0\n",
    "    for l,p in zip(labels, predictions):\n",
    "        loss = loss + (l - p) ** 2\n",
    "    return loss / len(labels)\n",
    "\n",
    "def cost(params, X, Y):\n",
    "    predictions = [variational_circuit(params, x) for x in X]\n",
    "    return square_loss(Y, predictions)"
   ]
  },
  {
   "cell_type": "code",
   "execution_count": 75,
   "metadata": {},
   "outputs": [],
   "source": [
    "steps = 50\n",
    "batch_size = 20\n",
    "num_params = 22\n",
    "\n",
    "def circuit_training():\n",
    "    opt = qml.NesterovMomentumOptimizer(0.5)\n",
    "    params = np.random.randn(num_params)\n",
    "    \n",
    "    for it in range(steps):\n",
    "        batch_index = np.random.randint(0, len(X_train), (batch_size,))\n",
    "        X_batch = [X_train[i] for i in batch_index]\n",
    "        Y_batch = [Y_train[i] for i in batch_index]\n",
    "        params, cost_new = opt.step_and_cost(lambda p: cost(p, X_batch, Y_batch), params)\n",
    "        if it % 10 == 0:\n",
    "            print(\"Steps: \", it, \" Cost: \", cost_new)\n",
    "    \n",
    "    return params"
   ]
  },
  {
   "cell_type": "code",
   "execution_count": null,
   "metadata": {},
   "outputs": [],
   "source": []
  }
 ],
 "metadata": {
  "kernelspec": {
   "display_name": "Python 3",
   "language": "python",
   "name": "python3"
  },
  "language_info": {
   "codemirror_mode": {
    "name": "ipython",
    "version": 3
   },
   "file_extension": ".py",
   "mimetype": "text/x-python",
   "name": "python",
   "nbconvert_exporter": "python",
   "pygments_lexer": "ipython3",
   "version": "3.7.9"
  }
 },
 "nbformat": 4,
 "nbformat_minor": 4
}
