{
 "cells": [
  {
   "cell_type": "markdown",
   "metadata": {},
   "source": [
    "# Quantum Convolutional Neural Network"
   ]
  },
  {
   "cell_type": "markdown",
   "metadata": {},
   "source": [
    "This is an implementation of 8 Qubit QCNN circuit (Quantum Convolutional Neural Networks by Iris Cong et al, 2019) and Tree Tensor Network circuit (Hierarchical Quantum Classifier by Ed Grant et al, 2018) with the comparisons among various ansatze."
   ]
  },
  {
   "cell_type": "code",
   "execution_count": 1,
   "metadata": {},
   "outputs": [],
   "source": [
    "import pennylane as qml\n",
    "from pennylane import numpy as np\n",
    "np.random.seed(0)"
   ]
  },
  {
   "cell_type": "markdown",
   "metadata": {},
   "source": [
    "# QCNN Circuit"
   ]
  },
  {
   "cell_type": "markdown",
   "metadata": {},
   "source": [
    "Here are various unitary ansatze to test"
   ]
  },
  {
   "cell_type": "code",
   "execution_count": 2,
   "metadata": {},
   "outputs": [],
   "source": [
    "# Unitraies for Convolutional Layers \n",
    "def U_TTN(params, wires): # 2 params\n",
    "    qml.RY(params[0], wires = wires[0])\n",
    "    qml.RY(params[1], wires = wires[1])\n",
    "    qml.CNOT(wires = [wires[0], wires[1]])\n",
    "\n",
    "def U_5(params, wires): # 10 params\n",
    "    qml.RX(params[0], wires = wires[0])\n",
    "    qml.RX(params[1], wires = wires[1])\n",
    "    qml.RZ(params[2], wires = wires[0])\n",
    "    qml.RZ(params[3], wires = wires[1])\n",
    "    qml.CRZ(params[4], wires = [wires[1], wires[0]])\n",
    "    qml.CRZ(params[5], wires = [wires[0], wires[1]])\n",
    "    qml.RX(params[6], wires = wires[0])\n",
    "    qml.RX(params[7], wires = wires[1])\n",
    "    qml.RZ(params[8], wires = wires[0])\n",
    "    qml.RZ(params[9], wires = wires[1])\n",
    "    \n",
    "def U_6(params, wires): # 10 params\n",
    "    qml.RX(params[0], wires = wires[0])\n",
    "    qml.RX(params[1], wires = wires[1])\n",
    "    qml.RZ(params[2], wires = wires[0])\n",
    "    qml.RZ(params[3], wires = wires[1])\n",
    "    qml.CRX(params[4], wires = [wires[1], wires[0]])\n",
    "    qml.CRX(params[5], wires = [wires[0], wires[1]])\n",
    "    qml.RX(params[6], wires = wires[0])\n",
    "    qml.RX(params[7], wires = wires[1])\n",
    "    qml.RZ(params[8], wires = wires[0])\n",
    "    qml.RZ(params[9], wires = wires[1])\n",
    "\n",
    "def U_9(params, wires): # 2 params\n",
    "    qml.Hadamard(wires = wires[0])\n",
    "    qml.Hadamard(wires = wires[1])\n",
    "    qml.CZ(wires = [wires[0],wires[1]])\n",
    "    qml.RX(params[0], wires = wires[0])\n",
    "    qml.RX(params[1], wires = wires[1])\n",
    "\n",
    "def U_13(params, wires): # 6 params\n",
    "    qml.RY(params[0], wires = wires[0])\n",
    "    qml.RY(params[1], wires = wires[1])\n",
    "    qml.CRZ(params[2], wires = [wires[1], wires[0]])\n",
    "    qml.RY(params[3], wires = wires[0])\n",
    "    qml.RY(params[4], wires = wires[1])\n",
    "    qml.CRZ(params[5], wires = [wires[0], wires[1]])\n",
    "\n",
    "def U_14(params, wires): # 6 params\n",
    "    qml.RY(params[0], wires = wires[0])\n",
    "    qml.RY(params[1], wires = wires[1])\n",
    "    qml.CRX(params[2], wires = [wires[1], wires[0]])\n",
    "    qml.RY(params[3], wires = wires[0])\n",
    "    qml.RY(params[4], wires = wires[1])\n",
    "    qml.CRX(params[5], wires = [wires[0], wires[1]])\n",
    "\n",
    "def U_15(params, wires): # 4 params\n",
    "    qml.RY(params[0], wires = wires[0])\n",
    "    qml.RY(params[1], wires = wires[1])\n",
    "    qml.CNOT(wires = [wires[1], wires[0]])\n",
    "    qml.RY(params[2], wires = wires[0])\n",
    "    qml.RY(params[3], wires = wires[1])\n",
    "    qml.CNOT(wires = [wires[0], wires[1]])\n",
    "\n",
    "def U_SO4(params, wires): # 6 params\n",
    "    qml.RY(params[0], wires = wires[0])\n",
    "    qml.RY(params[1], wires = wires[1])\n",
    "    qml.CNOT(wires = [wires[0], wires[1]])\n",
    "    qml.RY(params[2], wires = wires[0])\n",
    "    qml.RY(params[3], wires = wires[1])\n",
    "    qml.CNOT(wires = [wires[0], wires[1]])\n",
    "    qml.RY(params[4], wires = wires[0])\n",
    "    qml.RY(params[5], wires = wires[1])\n",
    "\n",
    "# Unitraies for Pooling and Fully Connected Layers\n",
    "def V_0(theta, wires):\n",
    "    qml.CRZ(theta, wires = [wires[0], wires[1]])\n",
    "\n",
    "def V_1(theta, wires):\n",
    "    qml.CRX(theta, wires = [wires[0], wires[1]])\n",
    "\n",
    "def F(theta, wires):\n",
    "    qml.CRZ(theta, wires = [wires[0], wires[1]])"
   ]
  },
  {
   "cell_type": "markdown",
   "metadata": {},
   "source": [
    "Below is general circuit structures used in Quantum Convolutional Neural Network (QCNN) circuits."
   ]
  },
  {
   "cell_type": "code",
   "execution_count": 3,
   "metadata": {},
   "outputs": [],
   "source": [
    "# Convolution Layer1\n",
    "def conv_layer1(U, params):\n",
    "    U(params, wires = [0,7])\n",
    "    for i in range (0,8,2):\n",
    "        U(params, wires = [i, i+1])\n",
    "    for i in range (1,7,2):\n",
    "        U(params, wires = [i, i+1])\n",
    "    \n",
    "def conv_layer2(U, params):\n",
    "    U(params, wires = [0,2])\n",
    "    U(params, wires = [4,6])\n",
    "    U(params, wires = [2,4])\n",
    "    U(params, wires = [0,6])\n",
    "    \n",
    "def pooling_layer1(V_0, V_1, params):\n",
    "    for i in range(0,8,2):\n",
    "        V_0(params[0], wires = [i+1, i])\n",
    "    for i in range(0,8,2):\n",
    "        qml.PauliX(wires = i+1)\n",
    "    for i in range(0,8,2):\n",
    "        V_1(params[1], wires = [i+1, i])\n",
    "        \n",
    "\n",
    "def pooling_layer2(V_0, V_1, params): # 2params\n",
    "    V_0(params[0], wires = [2,0])\n",
    "    V_0(params[0], wires = [6,4])\n",
    "    \n",
    "    qml.PauliX(wires = 2)\n",
    "    qml.PauliX(wires = 6)\n",
    "    \n",
    "    V_1(params[1], wires = [2,0])\n",
    "    V_1(params[1], wires = [6,4])"
   ]
  },
  {
   "cell_type": "markdown",
   "metadata": {},
   "source": [
    "Here we define various possible embedding methods."
   ]
  },
  {
   "cell_type": "code",
   "execution_count": 32,
   "metadata": {},
   "outputs": [],
   "source": [
    "from pennylane.templates.embeddings import AmplitudeEmbedding, AngleEmbedding\n",
    "from pennylane.templates.state_preparations import MottonenStatePreparation\n",
    "\n",
    "def data_embedding(X, embedding_type = 'Amplitude'):\n",
    "    if embedding_type == 'Amplitude':\n",
    "        AmplitudeEmbedding(X, wires = range(8), normalize = True)\n",
    "    elif embedding_type == 'Angle':\n",
    "        AngleEmbedding(X, wires = range(8), rotation = 'Y')\n",
    "        \n",
    "    # Hybrid Embedding for 32 classical data    \n",
    "    elif embedding_type == 'Hybrid':\n",
    "        X1 = X[:2**4]\n",
    "        X2 = X[2**4:2**5]\n",
    "        norm_X1, norm_X2 = np.linalg.norm(X1), np.linalg.norm(X2)\n",
    "        X1, X2 = X1 / norm_X1, X2 / norm_X2\n",
    "        \n",
    "        MottonenStatePreparation(X1, wires = range(4))\n",
    "        MottonenStatePreparation(X2, wires = range(4,8))\n",
    "    \n",
    "    # Hybrid Embedding for 16 classical data\n",
    "    elif embedding_type == 'Hybrid16':\n",
    "        X1 = X[:4]\n",
    "        X2 = X[4:8]\n",
    "        X3 = X[8:12]\n",
    "        X4 = X[12:16]\n",
    "        norm_X1, norm_X2, norm_X3, norm_X4 = np.linalg.norm(X1), np.linalg.norm(X2), np.linalg.norm(X3), np.linalg.norm(X4)\n",
    "        X1, X2, X3, X4 = X1 / norm_X1, X2 / norm_X2, X3 / norm_X3, X4 / norm_X4\n",
    "        \n",
    "        MottonenStatePreparation(X1, wires = range(2))\n",
    "        MottonenStatePreparation(X2, wires = range(2,4))\n",
    "        MottonenStatePreparation(X3, wires = range(4,6))\n",
    "        MottonenStatePreparation(X4, wires = range(6,8))"
   ]
  },
  {
   "cell_type": "markdown",
   "metadata": {},
   "source": [
    "Define QCNN circuit with given Unitary Ansatz and embedding method."
   ]
  },
  {
   "cell_type": "code",
   "execution_count": 37,
   "metadata": {},
   "outputs": [],
   "source": [
    "dev = qml.device('default.qubit', wires = 8)\n",
    "\n",
    "@qml.qnode(dev)\n",
    "def QCNN(X, params, U, U_params, embedding_type = 'Amplitude'):\n",
    "\n",
    "    param1 = params[0:U_params]\n",
    "    param2 = params[U_params:U_params + 2]\n",
    "    param3 = params[U_params + 2: 2*U_params + 2]\n",
    "    param4 = params[2*U_params + 2: 2*U_params + 4]\n",
    "    param5 = params[2*U_params + 4]\n",
    "    \n",
    "    # Data Embedding\n",
    "    data_embedding(X, embedding_type = embedding_type)\n",
    "    \n",
    "    #Quantum Convolutional Neural Network\n",
    "    if U == 'U_TTN':\n",
    "        conv_layer1(U_TTN, param1)\n",
    "        pooling_layer1(V_0, V_1, param2)\n",
    "        conv_layer2(U_TTN, param3)\n",
    "        pooling_layer2(V_0, V_1, param4)\n",
    "        F(param5, wires = [0,4])\n",
    "        \n",
    "    elif U == 'U_5':\n",
    "        conv_layer1(U_5, param1)\n",
    "        pooling_layer1(V_0, V_1, param2)\n",
    "        conv_layer2(U_5, param3)\n",
    "        pooling_layer2(V_0, V_1, param4)\n",
    "        F(param5, wires = [0,4])\n",
    "        \n",
    "    elif U == 'U_6':\n",
    "        conv_layer1(U_6, param1)\n",
    "        pooling_layer1(V_0, V_1, param2)\n",
    "        conv_layer2(U_6, param3)\n",
    "        pooling_layer2(V_0, V_1, param4)\n",
    "        F(param5, wires = [0,4])\n",
    "        \n",
    "    elif U == 'U_9':\n",
    "        conv_layer1(U_9, param1)\n",
    "        pooling_layer1(V_0, V_1, param2)\n",
    "        conv_layer2(U_9, param3)\n",
    "        pooling_layer2(V_0, V_1, param4)\n",
    "        F(param5, wires = [0,4])\n",
    "        \n",
    "    elif U == 'U_13':\n",
    "        conv_layer1(U_13, param1)\n",
    "        pooling_layer1(V_0, V_1, param2)\n",
    "        conv_layer2(U_13, param3)\n",
    "        pooling_layer2(V_0, V_1, param4)\n",
    "        F(param5, wires = [0,4])\n",
    "        \n",
    "    elif U == 'U_14':\n",
    "        conv_layer1(U_14, param1)\n",
    "        pooling_layer1(V_0, V_1, param2)\n",
    "        conv_layer2(U_14, param3)\n",
    "        pooling_layer2(V_0, V_1, param4)\n",
    "        F(param5, wires = [0,4])\n",
    "        \n",
    "    elif U == 'U_15':\n",
    "        conv_layer1(U_15, param1)\n",
    "        pooling_layer1(V_0, V_1, param2)\n",
    "        conv_layer2(U_15, param3)\n",
    "        pooling_layer2(V_0, V_1, param4)\n",
    "        F(param5, wires = [0,4])\n",
    "    \n",
    "    elif U == 'U_SO4':\n",
    "        conv_layer1(U_SO4, param1)\n",
    "        pooling_layer1(V_0, V_1, param2)\n",
    "        conv_layer2(U_SO4, param3)\n",
    "        pooling_layer2(V_0, V_1, param4)\n",
    "        F(param5, wires = [0,4])\n",
    "\n",
    "    return qml.expval(qml.PauliZ(4))"
   ]
  },
  {
   "cell_type": "markdown",
   "metadata": {},
   "source": [
    "Below is Hierarchical Quantum Classifier structure with different Ansatze"
   ]
  },
  {
   "cell_type": "code",
   "execution_count": 6,
   "metadata": {},
   "outputs": [],
   "source": [
    "dev_TTN = qml.device('default.qubit', wires = 8)\n",
    "\n",
    "@qml.qnode(dev_TTN)\n",
    "def Hierarchical_classifier(X, params, U, U_params, embedding_type = 'Amplitude'):\n",
    "    \n",
    "    param1 = params[0 * U_params:1 * U_params]\n",
    "    param2 = params[1 * U_params:2 * U_params]\n",
    "    param3 = params[2 * U_params:3 * U_params]\n",
    "    param4 = params[3 * U_params:4 * U_params]\n",
    "    param5 = params[4 * U_params:5 * U_params]\n",
    "    param6 = params[5 * U_params:6 * U_params]\n",
    "    param7 = params[6 * U_params:7 * U_params]\n",
    "    \n",
    "    data_embedding(X, embedding_type = embedding_type) \n",
    "    if U == 'U_TTN':\n",
    "        # layer 1\n",
    "        U_TTN(param1, wires = [0,1])\n",
    "        U_TTN(param2, wires = [2,3])\n",
    "        U_TTN(param3, wires = [4,5])\n",
    "        U_TTN(param4, wires = [6,7])\n",
    "        # layer 2\n",
    "        U_TTN(param5, wires = [1,3])\n",
    "        U_TTN(param6, wires = [5,7])\n",
    "        # layer 3\n",
    "        U_TTN(param7, wires = [3,7])\n",
    "    elif U == 'U_5':\n",
    "        # layer 1\n",
    "        U_5(param1, wires = [0,1])\n",
    "        U_5(param2, wires = [2,3])\n",
    "        U_5(param3, wires = [4,5])\n",
    "        U_5(param4, wires = [6,7])\n",
    "        # layer 2\n",
    "        U_5(param5, wires = [1,3])\n",
    "        U_5(param6, wires = [5,7])\n",
    "        # layer 3\n",
    "        U_5(param7, wires = [3,7])\n",
    "    elif U == 'U_6':\n",
    "        # layer 1\n",
    "        U_6(param1, wires = [0,1])\n",
    "        U_6(param2, wires = [2,3])\n",
    "        U_6(param3, wires = [4,5])\n",
    "        U_6(param4, wires = [6,7])\n",
    "        # layer 2\n",
    "        U_6(param5, wires = [1,3])\n",
    "        U_6(param6, wires = [5,7])\n",
    "        # layer 3\n",
    "        U_6(param7, wires = [3,7])\n",
    "    elif U == 'U_13':\n",
    "        # layer 1\n",
    "        U_13(param1, wires = [0,1])\n",
    "        U_13(param2, wires = [2,3])\n",
    "        U_13(param3, wires = [4,5])\n",
    "        U_13(param4, wires = [6,7])\n",
    "        # layer 2\n",
    "        U_13(param5, wires = [1,3])\n",
    "        U_13(param6, wires = [5,7])\n",
    "        # layer 3\n",
    "        U_13(param7, wires = [3,7])\n",
    "    elif U == 'U_14':\n",
    "        # layer 1\n",
    "        U_14(param1, wires = [0,1])\n",
    "        U_14(param2, wires = [2,3])\n",
    "        U_14(param3, wires = [4,5])\n",
    "        U_14(param4, wires = [6,7])\n",
    "        # layer 2\n",
    "        U_14(param5, wires = [1,3])\n",
    "        U_14(param6, wires = [5,7])\n",
    "        # layer 3\n",
    "        U_14(param7, wires = [3,7])\n",
    "    elif U == 'U_15':\n",
    "        # layer 1\n",
    "        U_15(param1, wires = [0,1])\n",
    "        U_15(param2, wires = [2,3])\n",
    "        U_15(param3, wires = [4,5])\n",
    "        U_15(param4, wires = [6,7])\n",
    "        # layer 2\n",
    "        U_15(param5, wires = [1,3])\n",
    "        U_15(param6, wires = [5,7])\n",
    "        # layer 3\n",
    "        U_15(param7, wires = [3,7])\n",
    "    elif U == 'U_SO4':\n",
    "        # layer 1\n",
    "        U_SO4(param1, wires = [0,1])\n",
    "        U_SO4(param2, wires = [2,3])\n",
    "        U_SO4(param3, wires = [4,5])\n",
    "        U_SO4(param4, wires = [6,7])\n",
    "        # layer 2\n",
    "        U_SO4(param5, wires = [1,3])\n",
    "        U_SO4(param6, wires = [5,7])\n",
    "        # layer 3\n",
    "        U_SO4(param7, wires = [3,7])\n",
    "    \n",
    "\n",
    "    return qml.expval(qml.PauliZ(7))"
   ]
  },
  {
   "cell_type": "markdown",
   "metadata": {},
   "source": [
    "# Training Quantum Circuits"
   ]
  },
  {
   "cell_type": "code",
   "execution_count": 7,
   "metadata": {},
   "outputs": [],
   "source": [
    "def square_loss(labels, predictions):\n",
    "    loss = 0\n",
    "    for l, p in zip(labels, predictions):\n",
    "        loss = loss + (l - p) ** 2\n",
    "\n",
    "    loss = loss / len(labels)\n",
    "    return loss\n",
    "\n",
    "def cost(params, X, Y, U, U_params, embedding_type, circuit):\n",
    "    if circuit == 'QCNN':\n",
    "        predictions = [QCNN(x, params, U, U_params, embedding_type) for x in X]\n",
    "    elif circuit == 'Hierarchical':\n",
    "        predictions = [Hierarchical_classifier(x, params, U, U_params, embedding_type) for x in X]\n",
    "    \n",
    "    return square_loss(Y, predictions)\n",
    "\n",
    "def accuracy_test_binary(predictions, labels):\n",
    "    acc = 0\n",
    "    for l,p in zip(labels, predictions):\n",
    "        if np.abs(l - p) < 1:\n",
    "            acc = acc + 1\n",
    "    return acc / len(labels)\n",
    "\n",
    "def accuracy_test_one_class(predictions, labels):\n",
    "    acc = 0\n",
    "    for l,p in zip(labels, predictions):\n",
    "        if np.abs(l - p) < 0.5:\n",
    "            acc = acc + 1\n",
    "    return acc / len(labels)"
   ]
  },
  {
   "cell_type": "code",
   "execution_count": 39,
   "metadata": {},
   "outputs": [],
   "source": [
    "def circuit_training(X_train, Y_train, U, U_params, embedding_type, circuit):\n",
    "    if circuit == 'QCNN':\n",
    "        total_params = U_params * 2 + 2 * 2 + 1\n",
    "    elif circuit == 'Hierarchical':\n",
    "        total_params = U_params * 7\n",
    "        \n",
    "    params = np.random.randn(total_params)\n",
    "    steps = 150\n",
    "    #steps = 150\n",
    "    learning_rate = 0.1\n",
    "    batch_size =25\n",
    "    opt = qml.NesterovMomentumOptimizer(learning_rate)\n",
    "    \n",
    "    for it in range(steps):\n",
    "        batch_index = np.random.randint(0, len(X_train), (batch_size,))\n",
    "        X_batch = [X_train[i] for i in batch_index]\n",
    "        Y_batch = [Y_train[i] for i in batch_index]\n",
    "        params, cost_new = opt.step_and_cost(lambda v: cost(v, X_batch, Y_batch, U, U_params, embedding_type, circuit), params)\n",
    "        if it % 10 == 0:\n",
    "            print(\"iteration: \", it, \" cost: \", cost_new)\n",
    "    return params"
   ]
  },
  {
   "cell_type": "markdown",
   "metadata": {},
   "source": [
    "### MNIST Data loading and processing"
   ]
  },
  {
   "cell_type": "markdown",
   "metadata": {},
   "source": [
    "Use PCA and Autoencoder to reduce it into 8 features. We test both one-class classification (labeling 0 and 1) and binary classification (labeling -1 and 1)."
   ]
  },
  {
   "cell_type": "code",
   "execution_count": 9,
   "metadata": {},
   "outputs": [],
   "source": [
    "import tensorflow as tf\n",
    "from sklearn import decomposition\n",
    "from sklearn.preprocessing import StandardScaler\n",
    "from sklearn.decomposition import PCA\n",
    "from tensorflow.keras.models import Sequential\n",
    "from tensorflow.keras.layers import Dense, Dropout, BatchNormalization, Activation\n",
    "from tensorflow.keras.models import Model\n",
    "from tensorflow.keras import layers, losses\n",
    "\n",
    "def data_load_and_process(dataset, classes = [0,1] , feature_reduction = 'resize256', binary = True):\n",
    "    \n",
    "    if dataset == 'fashion_mnist':\n",
    "        (x_train, y_train), (x_test, y_test) = tf.keras.datasets.fashion_mnist.load_data()\n",
    "    elif dataset == 'mnist':\n",
    "        (x_train, y_train), (x_test, y_test) = tf.keras.datasets.mnist.load_data()\n",
    "    \n",
    "    x_train, x_test = x_train[..., np.newaxis]/255.0, x_test[..., np.newaxis]/255.0 #normalize the data\n",
    "    \n",
    "    if classes == 'odd_even':\n",
    "        odd = [1,3,5,7,9]\n",
    "        even = [0,2,4,6,8]\n",
    "        x_train_01 = x_train\n",
    "        x_test_01 = x_test\n",
    "        if binary == False:\n",
    "            y_train_01 = [1 if y in odd else 0 for y in y_train]\n",
    "            y_test_01 = [1 if y in odd else 0 for y in y_test]\n",
    "        elif binary == True:\n",
    "            y_train_01 = [1 if y in odd else -1 for y in y_train]\n",
    "            y_test_01 = [1 if y in odd else -1 for y in y_test]\n",
    "            \n",
    "    elif classes == '>4':\n",
    "        greater = [5,6,7,8,9]\n",
    "        lesser = [0,1,2,3,4]\n",
    "        x_train_01 = x_train\n",
    "        x_test_01 = x_test\n",
    "        if binary == False:\n",
    "            y_train_01 = [1 if y in greater else 0 for y in y_train]\n",
    "            y_test_01 = [1 if y in greater else 0 for y in y_test]\n",
    "        elif binary == True:\n",
    "            y_train_01 = [1 if y in greater else -1 for y in y_train]\n",
    "            y_test_01 = [1 if y in greater else -1 for y in y_test]\n",
    "    \n",
    "    else:\n",
    "        x_train_filter_01 = np.where((y_train == classes[0]) | (y_train == classes[1]))\n",
    "        x_test_filter_01 = np.where((y_test == classes[0]) | (y_test == classes[1]))\n",
    "    \n",
    "        x_train_01, x_test_01 = x_train[x_train_filter_01], x_test[x_test_filter_01]\n",
    "        y_train_01, y_test_01 = y_train[x_train_filter_01], y_test[x_test_filter_01]\n",
    "    \n",
    "        if binary == False:\n",
    "            y_train_01 = [1 if y ==classes[0] else 0 for y in y_train_01]\n",
    "            y_test_01 = [1 if y ==classes[0] else 0 for y in y_test_01]\n",
    "        elif binary == True:\n",
    "            y_train_01 = [1 if y ==classes[0] else -1 for y in y_train_01]\n",
    "            y_test_01 = [1 if y ==classes[0] else -1 for y in y_test_01]\n",
    "        \n",
    "    \n",
    "    if feature_reduction == 'resize256':   \n",
    "        x_train_01 = tf.image.resize(x_train_01[:], (256, 1)).numpy()\n",
    "        x_test_01 = tf.image.resize(x_test_01[:], (256, 1)).numpy()\n",
    "        x_train_01, x_test_01 = tf.squeeze(x_train_01), tf.squeeze(x_test_01) \n",
    "        return x_train_01, x_test_01, y_train_01, y_test_01\n",
    "    \n",
    "    elif feature_reduction == 'pca8':\n",
    "        x_train_01 = tf.image.resize(x_train_01[:], (784, 1)).numpy()\n",
    "        x_test_01 = tf.image.resize(x_test_01[:], (784, 1)).numpy()\n",
    "        x_train_01, x_test_01 = tf.squeeze(x_train_01), tf.squeeze(x_test_01)\n",
    "        \n",
    "        if feature_reduction == 'pca8':\n",
    "            pca = PCA(8)\n",
    "            \n",
    "        x_train_01 = pca.fit_transform(x_train_01)\n",
    "        x_test_01 = pca.transform(x_test_01)\n",
    "        \n",
    "        #Rescale for angle embedding\n",
    "        if feature_reduction == 'pca8':\n",
    "            x_train_01, x_test_01 = (x_train_01 + 10) * (np.pi / 20), (x_test_01 + 10) * (np.pi / 20)\n",
    "        \n",
    "        return x_train_01, x_test_01, y_train_01, y_test_01\n",
    "\n",
    "    elif feature_reduction == 'autoencoder8':\n",
    "        if feature_reduction == 'autoencoder8':\n",
    "            latent_dim = 8 \n",
    "            \n",
    "        class Autoencoder(Model):\n",
    "            def __init__(self, latent_dim):\n",
    "                super(Autoencoder, self).__init__()\n",
    "                self.latent_dim = latent_dim   \n",
    "                self.encoder = tf.keras.Sequential([\n",
    "                layers.Flatten(),\n",
    "                  layers.Dense(latent_dim, activation='relu'),\n",
    "                ])\n",
    "                self.decoder = tf.keras.Sequential([\n",
    "                layers.Dense(784, activation='sigmoid'),\n",
    "                layers.Reshape((28, 28))\n",
    "                ])\n",
    "            def call(self, x):\n",
    "                encoded = self.encoder(x)\n",
    "                decoded = self.decoder(encoded)\n",
    "                return decoded\n",
    "        \n",
    "        autoencoder = Autoencoder(latent_dim)\n",
    "        \n",
    "        autoencoder.compile(optimizer='adam', loss=losses.MeanSquaredError())\n",
    "        autoencoder.fit(x_train_01, x_train_01,\n",
    "                epochs=10,\n",
    "                shuffle=True,\n",
    "                validation_data=(x_test_01, x_test_01))\n",
    "        \n",
    "        x_train_01, x_test_01 = autoencoder.encoder(x_train_01).numpy(), autoencoder.encoder(x_test_01).numpy()\n",
    "        #Rescale for Angle Embedding\n",
    "        if feature_reduction == 'autoencoder8':\n",
    "            x_train_01, x_test_01 = x_train_01 * (np.pi / 50), x_test_01 * (np.pi / 50)\n",
    "        \n",
    "        return x_train_01, x_test_01, y_train_01, y_test_01\n",
    "        "
   ]
  },
  {
   "cell_type": "markdown",
   "metadata": {},
   "source": [
    "# Test Code Block Start"
   ]
  },
  {
   "cell_type": "code",
   "execution_count": 40,
   "metadata": {},
   "outputs": [],
   "source": [
    "######\n",
    "# This is a temporary test code for hybrid embedding\n",
    "def data_load_and_process_hybrid(classes = [0,1]):\n",
    "    (x_train, y_train), (x_test, y_test) = tf.keras.datasets.mnist.load_data()\n",
    "    x_train, x_test = x_train[..., np.newaxis]/255.0, x_test[..., np.newaxis]/255.0\n",
    "    \n",
    "    x_train_filter_01 = np.where((y_train == classes[0]) | (y_train == classes[1]))\n",
    "    x_test_filter_01 = np.where((y_test == classes[0]) | (y_test == classes[1]))\n",
    "    \n",
    "    x_train_01, x_test_01 = x_train[x_train_filter_01], x_test[x_test_filter_01]\n",
    "    y_train_01, y_test_01 = y_train[x_train_filter_01], y_test[x_test_filter_01]\n",
    "    y_train_01 = [1 if y ==classes[0] else -1 for y in y_train_01]\n",
    "    y_test_01 = [1 if y ==classes[0] else -1 for y in y_test_01]\n",
    "    \n",
    "\n",
    "    x_train_01 = tf.image.resize(x_train_01[:], (784, 1)).numpy()\n",
    "    x_test_01 = tf.image.resize(x_test_01[:], (784, 1)).numpy()\n",
    "    x_train_01, x_test_01 = tf.squeeze(x_train_01), tf.squeeze(x_test_01)\n",
    "    pca = PCA(16)\n",
    "    x_train_01 = pca.fit_transform(x_train_01)\n",
    "    x_test_01 = pca.transform(x_test_01)\n",
    "        \n",
    "    return x_train_01, x_test_01, y_train_01, y_test_01\n",
    "    "
   ]
  },
  {
   "cell_type": "code",
   "execution_count": 41,
   "metadata": {},
   "outputs": [
    {
     "name": "stderr",
     "output_type": "stream",
     "text": [
      "/Users/tak/anaconda3/envs/QC/lib/python3.7/site-packages/autograd/tracer.py:14: UserWarning: Output seems independent of input.\n",
      "  warnings.warn(\"Output seems independent of input.\")\n"
     ]
    },
    {
     "name": "stdout",
     "output_type": "stream",
     "text": [
      "iteration:  0  cost:  1.2872366641909359\n",
      "iteration:  10  cost:  1.0163989635628514\n",
      "iteration:  20  cost:  1.2459707530987116\n",
      "iteration:  30  cost:  1.6916473826879157\n",
      "iteration:  40  cost:  1.1607407092237343\n",
      "iteration:  50  cost:  1.0730459695626324\n",
      "iteration:  60  cost:  1.3904042450469294\n",
      "iteration:  70  cost:  1.2989089453473324\n",
      "iteration:  80  cost:  0.9780888719666866\n",
      "iteration:  90  cost:  1.5659649429161706\n",
      "iteration:  100  cost:  1.6376215924151978\n",
      "iteration:  110  cost:  1.6392651259443385\n",
      "iteration:  120  cost:  2.015992827856374\n",
      "iteration:  130  cost:  1.4162261230227984\n",
      "iteration:  140  cost:  1.665905697058613\n"
     ]
    }
   ],
   "source": [
    "Embedding = 'Hybrid16'\n",
    "circuit = 'QCNN'\n",
    "U = 'U13'\n",
    "U_params = 6\n",
    "\n",
    "X_train, X_test, Y_train, Y_test = data_load_and_process_hybrid()\n",
    "trained_params = circuit_training(X_train, Y_train, U, U_params, Embedding, circuit)"
   ]
  },
  {
   "cell_type": "code",
   "execution_count": 42,
   "metadata": {},
   "outputs": [],
   "source": [
    "predictions = [QCNN(x, trained_params, U, U_params, Embedding) for x in X_test]\n",
    "accuracy = accuracy_test_binary(predictions, Y_test)"
   ]
  },
  {
   "cell_type": "code",
   "execution_count": 43,
   "metadata": {},
   "outputs": [
    {
     "name": "stdout",
     "output_type": "stream",
     "text": [
      "0.47092198581560285\n"
     ]
    }
   ],
   "source": [
    "print(accuracy)"
   ]
  },
  {
   "cell_type": "markdown",
   "metadata": {},
   "source": [
    "# Test Code Block End"
   ]
  },
  {
   "cell_type": "markdown",
   "metadata": {},
   "source": [
    "# Results"
   ]
  },
  {
   "cell_type": "markdown",
   "metadata": {},
   "source": [
    "Benchmarking function trains and performs accuracy tests for all the given unitary ansatze, feature reduction methods, and circuit structures."
   ]
  },
  {
   "cell_type": "code",
   "execution_count": null,
   "metadata": {},
   "outputs": [],
   "source": [
    "def Benchmarking(dataset, Unitaries, U_num_params, Encodings, circuit, binary = True):\n",
    "    I = len(Unitaries)\n",
    "    J = len(Encodings)\n",
    "    All_predictions = []\n",
    "    \n",
    "    for i in range(I):\n",
    "        for j in range(J):\n",
    "            U = Unitaries[i]\n",
    "            U_params = U_num_params[i]\n",
    "            Encoding = Encodings[j]\n",
    "            if Encoding == 'resize256':\n",
    "                Embedding = 'Amplitude'\n",
    "                X_train, X_test, Y_train, Y_test = data_load_and_process(dataset, classes = classes, feature_reduction = 'resize256', binary = binary)\n",
    "            elif Encoding == 'pca8':\n",
    "                Embedding = 'Angle'\n",
    "                X_train, X_test, Y_train, Y_test = data_load_and_process(dataset, classes = classes, feature_reduction = 'pca8', binary = binary)\n",
    "            elif Encoding == 'autoencoder8':\n",
    "                Embedding = 'Angle'\n",
    "                X_train, X_test, Y_train, Y_test = data_load_and_process(dataset, classes = classes, feature_reduction = 'autoencoder8', binary = binary)\n",
    "            elif Encoding == 'pca32':\n",
    "                Embedding = 'Hybird'\n",
    "                X_train, X_test, Y_train, Y_test = data_load_and_process(dataset, classes = classes, feature_reduction = 'pca32', binary = binary)\n",
    "            elif Encoding == 'autoencoder32':\n",
    "                Embedding = 'Hybrid'\n",
    "                X_train, X_test, Y_train, Y_test = data_load_and_process(dataset, classes = classes, feature_reduction = 'autoencoder32', binary = binary)\n",
    "            print(\"\\n\")\n",
    "            print(\"Loss History for \" + circuit + \" circuits, \"+ U + \" \" + Encoding)\n",
    "            trained_params = circuit_training(X_train, Y_train, U, U_params, Embedding, circuit)\n",
    "            \n",
    "            if circuit == 'QCNN':\n",
    "                predictions = [QCNN(x, trained_params, U, U_params, Embedding) for x in X_test]\n",
    "            elif circuit == 'Hierarchical':\n",
    "                predictions = [Hierarchical_classifier(x, trained_params, U, U_params, Embedding) for x in X_test]\n",
    "                \n",
    "                \n",
    "            if binary == True:\n",
    "                accuracy = accuracy_test_binary(predictions, Y_test)\n",
    "            elif binary == False:\n",
    "                accuracy = accuracy_test_one_class(predictions, Y_test)\n",
    "                \n",
    "            print(\"Accuracy for \" + U + \" \" + Encoding + \" :\" + str(accuracy))"
   ]
  },
  {
   "cell_type": "markdown",
   "metadata": {},
   "source": [
    "# Results"
   ]
  },
  {
   "cell_type": "markdown",
   "metadata": {},
   "source": [
    "This section contains the result of the benchmarking code showing the accuracies of the variations of quantum classifiers. There are 5 variables that user can control fro benchmarking. \n",
    "\n",
    "\"dataset\" controls the classical dataset to classify.\n",
    "\n",
    "\"classes\" chooses two classes to classify from the dataset.\n",
    "\n",
    "\"Unitaries\" controls the 2-qubits unitary operator that used in a quantum circuit.\n",
    "\n",
    "\"Encodings\" controls the how to prepare the classical data and initial quantum state preparation.\n",
    "\n",
    "\"circuit\" controls the circuit structure to use.\n",
    "\n",
    "If binary is true, two classes are labelled as 1 and -1 (Corresponding to 0 and 1 qubit).\n",
    "\n",
    "If binary is false, two classes are labelled as 1 and 0 (Corresponding to 0 and ambiguous equator qubit)\n"
   ]
  },
  {
   "cell_type": "markdown",
   "metadata": {},
   "source": [
    "## 1. Results for MNIST Dataset"
   ]
  },
  {
   "cell_type": "markdown",
   "metadata": {},
   "source": [
    "#### QCNN Circuit\n"
   ]
  },
  {
   "cell_type": "code",
   "execution_count": null,
   "metadata": {},
   "outputs": [],
   "source": [
    "dataset = 'mnist'\n",
    "Unitaries = ['U_TTN', 'U_5', 'U_6', 'U_9', 'U_13', 'U_14', 'U_15', 'U_SO4'] \n",
    "U_num_params = [2, 10, 10, 4, 6, 6, 4, 6]\n",
    "Encodings = ['resize256', 'pca8', 'autoencoder8']\n",
    "classes = [0,1]\n",
    "circuit = 'QCNN'"
   ]
  },
  {
   "cell_type": "code",
   "execution_count": null,
   "metadata": {},
   "outputs": [],
   "source": [
    "Benchmarking(dataset, Unitaries, U_num_params, Encodings, circuit, binary = True)\n",
    "#Benchmarking(dataset, Unitaries, U_num_params, Encodings, circuit, binary = False)"
   ]
  },
  {
   "cell_type": "markdown",
   "metadata": {},
   "source": [
    "#### Hierarchical Circuit"
   ]
  },
  {
   "cell_type": "code",
   "execution_count": null,
   "metadata": {},
   "outputs": [],
   "source": [
    "dataset = 'mnist'\n",
    "Unitaries = ['U_TTN', 'U_5', 'U_6', 'U_13', 'U_14', 'U_15', 'U_SO4'] \n",
    "U_num_params = [2, 10, 10, 6, 6, 4, 6]\n",
    "Encodings = ['resize256', 'pca8', 'autoencoder8']\n",
    "classes = [0,1]\n",
    "circuit = 'Hierarchical'"
   ]
  },
  {
   "cell_type": "code",
   "execution_count": null,
   "metadata": {},
   "outputs": [],
   "source": [
    "Benchmarking(dataset, Unitaries, U_num_params, Encodings, circuit, binary = True)\n",
    "#Benchmarking(dataset, Unitaries, U_num_params, Encodings, circuit, binary = False)"
   ]
  },
  {
   "cell_type": "markdown",
   "metadata": {},
   "source": [
    "## 2. Results for fashion MNIST dataset"
   ]
  },
  {
   "cell_type": "markdown",
   "metadata": {},
   "source": [
    "#### QCNN Circuit"
   ]
  },
  {
   "cell_type": "code",
   "execution_count": null,
   "metadata": {},
   "outputs": [],
   "source": [
    "dataset = 'fashion_mnist'\n",
    "Unitaries = ['U_5', 'U_15', 'U_SO4']\n",
    "U_num_params = [10, 4, 6]\n",
    "Encodings = ['resize256', 'pca8', 'autoencoder8']\n",
    "classes = [0,1]\n",
    "circuit = 'QCNN'"
   ]
  },
  {
   "cell_type": "code",
   "execution_count": null,
   "metadata": {},
   "outputs": [],
   "source": [
    "Benchmarking(dataset, Unitaries, U_num_params, Encodings, circuit, binary = True)\n",
    "#Benchmarking(dataset, Unitaries, U_num_params, Encodings, circuit, binary = False)"
   ]
  },
  {
   "cell_type": "markdown",
   "metadata": {},
   "source": [
    "#### Hierarchical Circuit"
   ]
  },
  {
   "cell_type": "code",
   "execution_count": null,
   "metadata": {},
   "outputs": [],
   "source": [
    "dataset = 'fashion_mnist'\n",
    "Unitaries = ['U_5', 'U_15', 'U_SO4']\n",
    "U_num_params = [10, 4, 6]\n",
    "Encodings = ['resize256', 'pca8', 'autoencoder8']\n",
    "classes = [0,1]\n",
    "circuit = 'Hierarchical'"
   ]
  },
  {
   "cell_type": "code",
   "execution_count": null,
   "metadata": {},
   "outputs": [],
   "source": [
    "Benchmarking(dataset, Unitaries, U_num_params, Encodings, circuit, binary = True)\n",
    "#Benchmarking(dataset, Unitaries, U_num_params, Encodings, circuit, binary = False)"
   ]
  },
  {
   "cell_type": "code",
   "execution_count": null,
   "metadata": {},
   "outputs": [],
   "source": [
    "dataset = 'mnist'\n",
    "Unitaries = ['U_5', 'U_15', 'U_SO4']\n",
    "U_num_params = [10, 4, 6]\n",
    "Encodings = ['autoencoder8']\n",
    "classes = 'odd_even'\n",
    "circuit = 'QCNN'"
   ]
  },
  {
   "cell_type": "code",
   "execution_count": null,
   "metadata": {},
   "outputs": [],
   "source": [
    "Benchmarking(dataset, Unitaries, U_num_params, Encodings, circuit, binary = True)"
   ]
  },
  {
   "cell_type": "code",
   "execution_count": null,
   "metadata": {},
   "outputs": [],
   "source": []
  }
 ],
 "metadata": {
  "kernelspec": {
   "display_name": "Python 3",
   "language": "python",
   "name": "python3"
  },
  "language_info": {
   "codemirror_mode": {
    "name": "ipython",
    "version": 3
   },
   "file_extension": ".py",
   "mimetype": "text/x-python",
   "name": "python",
   "nbconvert_exporter": "python",
   "pygments_lexer": "ipython3",
   "version": "3.7.9"
  }
 },
 "nbformat": 4,
 "nbformat_minor": 4
}
