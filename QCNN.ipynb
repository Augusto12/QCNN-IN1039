{
 "cells": [
  {
   "cell_type": "markdown",
   "metadata": {},
   "source": [
    "# Quantum Convolutional Neural Network"
   ]
  },
  {
   "cell_type": "code",
   "execution_count": 21,
   "metadata": {},
   "outputs": [],
   "source": [
    "import pennylane as qml\n",
    "from pennylane import numpy as np\n",
    "np.random.seed(0)"
   ]
  },
  {
   "cell_type": "markdown",
   "metadata": {},
   "source": [
    "# Quantum Convolution Layer"
   ]
  },
  {
   "cell_type": "code",
   "execution_count": 3,
   "metadata": {},
   "outputs": [],
   "source": [
    "# Convolutional Layer\n",
    "def U(theta1, theta2, wires):\n",
    "    qml.RY(theta1, wires = wires[0])\n",
    "    qml.RY(theta2, wires = wires[1])\n",
    "    qml.CNOT(wires = [wires[0], wires[1]])"
   ]
  },
  {
   "cell_type": "code",
   "execution_count": 4,
   "metadata": {},
   "outputs": [],
   "source": [
    "#Pooling Layer\n",
    "def V(theta, wires):\n",
    "    qml.CRZ(theta, wires = [wires[1], wires[0]])"
   ]
  },
  {
   "cell_type": "code",
   "execution_count": 15,
   "metadata": {},
   "outputs": [],
   "source": [
    "# Fully connected layer\n",
    "def F(wires):\n",
    "    qml.CNOT(wires = [wires[0], wires[1]])"
   ]
  },
  {
   "cell_type": "code",
   "execution_count": 16,
   "metadata": {},
   "outputs": [],
   "source": [
    "dev = qml.device('default.qubit', wires = 8)"
   ]
  },
  {
   "cell_type": "code",
   "execution_count": 87,
   "metadata": {},
   "outputs": [],
   "source": [
    "from pennylane.templates.embeddings import AmplitudeEmbedding\n",
    "@qml.qnode(dev)\n",
    "def QCNN(X, params):\n",
    "    AmplitudeEmbedding(X, wires = range(8), normalize = True)\n",
    "    \n",
    "    # 1st convolutional layer\n",
    "    for i in range (0,8,2):\n",
    "        U(params[0], params[1], wires = [i, i+1])\n",
    "    for i in range (1,7,2):\n",
    "        U(params[0], params[1], wires = [i, i+1])\n",
    "    # 1st pooling layer\n",
    "    for i in range(0,8,2):\n",
    "        V(params[2], wires = [i, i+1])\n",
    "        \n",
    "    # 2nd convolution layer\n",
    "    U(params[3], params[4], wires = [0,2])\n",
    "    U(params[3], params[4], wires = [4,6])\n",
    "    U(params[3], params[4], wires = [2,4])\n",
    "    \n",
    "    # 2nd pooling layer\n",
    "    V(params[5], wires = [0, 2])\n",
    "    V(params[5], wires = [4, 6])\n",
    "    \n",
    "    #Fully Connected Layer\n",
    "    F(wires = [0,4])\n",
    "    return qml.expval(qml.PauliZ(4))"
   ]
  },
  {
   "cell_type": "code",
   "execution_count": 18,
   "metadata": {},
   "outputs": [
    {
     "name": "stdout",
     "output_type": "stream",
     "text": [
      "[-8.59731786e-04  1.07296077e+00  1.56414876e-01  6.08737328e-02\n",
      " -1.19747830e+00  6.06970507e-01]\n"
     ]
    }
   ],
   "source": [
    "params_init = np.random.randn(6)\n",
    "print(params_init)"
   ]
  },
  {
   "cell_type": "code",
   "execution_count": 20,
   "metadata": {},
   "outputs": [
    {
     "name": "stdout",
     "output_type": "stream",
     "text": [
      "0.13420148978046242\n"
     ]
    }
   ],
   "source": [
    "circuit = QCNN(params_init)\n",
    "print(circuit)"
   ]
  },
  {
   "cell_type": "markdown",
   "metadata": {},
   "source": [
    "# Training QCNN"
   ]
  },
  {
   "cell_type": "code",
   "execution_count": 27,
   "metadata": {},
   "outputs": [],
   "source": [
    "from tensorflow.keras import datasets, layers, models\n",
    "import tensorflow as tf"
   ]
  },
  {
   "cell_type": "code",
   "execution_count": 126,
   "metadata": {},
   "outputs": [],
   "source": [
    "def square_loss(labels, predictions):\n",
    "    loss = 0\n",
    "    for l, p in zip(labels, predictions):\n",
    "        loss = loss + (l - p) ** 2\n",
    "\n",
    "    loss = loss / len(labels)\n",
    "    return loss\n",
    "\n",
    "def cost(params, X, Y):\n",
    "    predictions = [QCNN(x, params) for x in X]\n",
    "    return square_loss(Y, predictions)\n",
    "\n",
    "def accuracy(predictions, labels):\n",
    "    acc = 0\n",
    "    for l,p in zip(labels, predictions):\n",
    "        if np.abs(l - p) < 1e-3:\n",
    "            acc = acc + 1\n",
    "    return acc / len(labels)"
   ]
  },
  {
   "cell_type": "code",
   "execution_count": 115,
   "metadata": {},
   "outputs": [],
   "source": [
    "def data_load_and_process(classes = [0,1]):\n",
    "    (x_train, y_train), (x_test, y_test) = tf.keras.datasets.mnist.load_data()\n",
    "    x_train, x_test = x_train[..., np.newaxis]/255.0, x_test[..., np.newaxis]/255.0\n",
    "    \n",
    "    x_train_filter_01 = np.where((y_train == classes[0]) | (y_train == classes[1]))\n",
    "    x_test_filter_01 = np.where((y_test == classes[0]) | (y_test == classes[1]))\n",
    "    \n",
    "    \n",
    "    x_train_01 = x_train[x_train_filter_01]\n",
    "    y_train_01 = y_train[x_train_filter_01]\n",
    "    x_test_01 = x_test[x_test_filter_01]\n",
    "    y_test_01 = y_test[x_test_filter_01]\n",
    "    \n",
    "    \n",
    "    x_train= tf.cast(x_train_01, tf.float32)\n",
    "    x_test=tf.cast(x_test_01, tf.float32)\n",
    "    \n",
    "    x_train = tf.image.resize(x_train[:], (256, 1)).numpy()\n",
    "    x_test = tf.image.resize(x_test[:], (256, 1)).numpy()\n",
    "    \n",
    "    x_train, x_test = tf.squeeze(x_train), tf.squeeze(x_test)\n",
    "                                                                            \n",
    "    \n",
    "    \n",
    "    return x_train, x_test, y_train_01, y_test_01"
   ]
  },
  {
   "cell_type": "code",
   "execution_count": 116,
   "metadata": {},
   "outputs": [],
   "source": [
    "x_train, x_test, y_train, y_test = data_load_and_process()"
   ]
  },
  {
   "cell_type": "code",
   "execution_count": 124,
   "metadata": {},
   "outputs": [],
   "source": [
    "def optimization(X_train, Y_train):\n",
    "    params = np.random.randn(6)\n",
    "    steps = 100\n",
    "    learning_rate = 0.1\n",
    "    batch_size =25\n",
    "    opt = qml.NesterovMomentumOptimizer(learning_rate)\n",
    "    \n",
    "    for it in range(steps):\n",
    "        batch_index = np.random.randint(0, len(X_train), (batch_size,))\n",
    "        X_batch = [X_train[i] for i in batch_index]\n",
    "        Y_batch = [Y_train[i] for i in batch_index]\n",
    "        params, cost_new = opt.step_and_cost(lambda v: cost(v, X_batch, Y_batch), params)\n",
    "        if it % 10 == 0:\n",
    "            print(\"iteration: \", it, \" cost: \", cost_new)\n",
    "    return params\n",
    "    "
   ]
  },
  {
   "cell_type": "code",
   "execution_count": 125,
   "metadata": {},
   "outputs": [
    {
     "name": "stdout",
     "output_type": "stream",
     "text": [
      "iteration:  0  cost:  0.5172121658070388\n",
      "iteration:  10  cost:  0.3329628060288966\n",
      "iteration:  20  cost:  0.3648150483798443\n",
      "iteration:  30  cost:  0.32441461563751156\n",
      "iteration:  40  cost:  0.21544728273759184\n",
      "iteration:  50  cost:  0.2826444392577369\n",
      "iteration:  60  cost:  0.18101653190288572\n",
      "iteration:  70  cost:  0.11723825593607018\n",
      "iteration:  80  cost:  0.20214640867191336\n",
      "iteration:  90  cost:  0.24528610079952165\n"
     ]
    }
   ],
   "source": [
    "params_trained = optimization(x_train, y_train)"
   ]
  },
  {
   "cell_type": "code",
   "execution_count": null,
   "metadata": {},
   "outputs": [],
   "source": []
  }
 ],
 "metadata": {
  "kernelspec": {
   "display_name": "Python 3",
   "language": "python",
   "name": "python3"
  },
  "language_info": {
   "codemirror_mode": {
    "name": "ipython",
    "version": 3
   },
   "file_extension": ".py",
   "mimetype": "text/x-python",
   "name": "python",
   "nbconvert_exporter": "python",
   "pygments_lexer": "ipython3",
   "version": "3.7.9"
  }
 },
 "nbformat": 4,
 "nbformat_minor": 4
}
