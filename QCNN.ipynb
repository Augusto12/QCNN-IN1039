{
 "cells": [
  {
   "cell_type": "markdown",
   "metadata": {},
   "source": [
    "# Quantum Convolutional Neural Network"
   ]
  },
  {
   "cell_type": "code",
   "execution_count": 1,
   "metadata": {},
   "outputs": [],
   "source": [
    "import pennylane as qml\n",
    "from pennylane import numpy as np\n",
    "np.random.seed(0)"
   ]
  },
  {
   "cell_type": "markdown",
   "metadata": {},
   "source": [
    "# Quantum Convolution Layer"
   ]
  },
  {
   "cell_type": "code",
   "execution_count": 2,
   "metadata": {},
   "outputs": [],
   "source": [
    "# Convolution Layer1\n",
    "def U1(theta1, theta2, wires):\n",
    "    qml.RY(theta1, wires = wires[0])\n",
    "    qml.RY(theta2, wires = wires[1])\n",
    "    qml.CNOT(wires = [wires[0], wires[1]])"
   ]
  },
  {
   "cell_type": "code",
   "execution_count": 3,
   "metadata": {},
   "outputs": [],
   "source": [
    "# Convoluyion Layer 2\n",
    "def U2(theta, wires):\n",
    "    qml.CRY(theta, wires = [wires[0], wires[1]])"
   ]
  },
  {
   "cell_type": "code",
   "execution_count": 4,
   "metadata": {},
   "outputs": [],
   "source": [
    "#Pooling Layer\n",
    "def V(theta, wires):\n",
    "    qml.CRZ(theta, wires = [wires[0], wires[1]])"
   ]
  },
  {
   "cell_type": "code",
   "execution_count": 5,
   "metadata": {},
   "outputs": [],
   "source": [
    "# Fully connected layer\n",
    "def F(wires):\n",
    "    qml.CNOT(wires = [wires[0], wires[1]])"
   ]
  },
  {
   "cell_type": "code",
   "execution_count": 19,
   "metadata": {},
   "outputs": [],
   "source": [
    "from pennylane.templates.embeddings import AmplitudeEmbedding, AngleEmbedding\n",
    "dev = qml.device('default.qubit', wires = 8)\n",
    "@qml.qnode(dev)\n",
    "def QCNN1(X, params): # 6 parameters needed\n",
    "    \n",
    "    if len(X) == 8:\n",
    "        AngleEmbedding(X, wires = range(8))\n",
    "    elif len(X) == 256:\n",
    "        AmplitudeEmbedding(X, wires = range(8), normalize = True)\n",
    "    \n",
    "    # 1st convolutional layer\n",
    "    for i in range (0,8,2):\n",
    "        U1(params[0], params[1], wires = [i, i+1])\n",
    "    for i in range (1,7,2):\n",
    "        U1(params[0], params[1], wires = [i, i+1])\n",
    "    # 1st pooling layer\n",
    "    for i in range(0,8,2):\n",
    "        V(params[2], wires = [i + 1, i])\n",
    "        \n",
    "    # 2nd convolution layer\n",
    "    U1(params[3], params[4], wires = [0,2])\n",
    "    U1(params[3], params[4], wires = [4,6])\n",
    "    U1(params[3], params[4], wires = [2,4])\n",
    "    \n",
    "    # 2nd pooling layer\n",
    "    V(params[5], wires = [2, 0])\n",
    "    V(params[5], wires = [6, 4])\n",
    "    \n",
    "    #Fully Connected Layer\n",
    "    F(wires = [0,4])\n",
    "    return qml.expval(qml.PauliZ(4))"
   ]
  },
  {
   "cell_type": "code",
   "execution_count": 18,
   "metadata": {},
   "outputs": [],
   "source": [
    "dev1 = qml.device('default.qubit', wires = 8)\n",
    "@qml.qnode(dev1)\n",
    "def QCNN2(X, params): # 4 parameters needed\n",
    "    if len(X) == 8:\n",
    "        AngleEmbedding(X, wires = range(8))\n",
    "    elif len(X) == 256:\n",
    "        AmplitudeEmbedding(X, wires = range(8), normalize = True)\n",
    "    \n",
    "    # 1st convolutional layer\n",
    "    for i in range (0,8,2):\n",
    "        U2(params[0], wires = [i, i+1])\n",
    "    for i in range (1,7,2):\n",
    "        U2(params[0], wires = [i, i+1])\n",
    "    # 1st pooling layer\n",
    "    for i in range(0,8,2):\n",
    "        V(params[1], wires = [i + 1, i])\n",
    "        \n",
    "    # 2nd convolution layer\n",
    "    U2(params[2], wires = [0,2])\n",
    "    U2(params[2], wires = [4,6])\n",
    "    U2(params[2], wires = [2,4])\n",
    "    \n",
    "    # 2nd pooling layer\n",
    "    V(params[3], wires = [2, 0])\n",
    "    V(params[3], wires = [6, 4])\n",
    "    \n",
    "    #Fully Connected Layer\n",
    "    F(wires = [0,4])\n",
    "    return qml.expval(qml.PauliZ(4))"
   ]
  },
  {
   "cell_type": "markdown",
   "metadata": {},
   "source": [
    "# Training Quantum Circuits"
   ]
  },
  {
   "cell_type": "code",
   "execution_count": 29,
   "metadata": {},
   "outputs": [],
   "source": [
    "def square_loss(labels, predictions):\n",
    "    loss = 0\n",
    "    for l, p in zip(labels, predictions):\n",
    "        loss = loss + (l - p) ** 2\n",
    "\n",
    "    loss = loss / len(labels)\n",
    "    return loss\n",
    "\n",
    "def cost(params, X, Y, circuit = QCNN1):\n",
    "    predictions = [circuit(x, params) for x in X]\n",
    "    return square_loss(Y, predictions)\n",
    "\n",
    "def accuracy(predictions, labels):\n",
    "    acc = 0\n",
    "    for l,p in zip(labels, predictions):\n",
    "        if np.abs(l - p) < 0.5:\n",
    "            acc = acc + 1\n",
    "    return acc / len(labels)"
   ]
  },
  {
   "cell_type": "code",
   "execution_count": 9,
   "metadata": {},
   "outputs": [],
   "source": [
    "def optimization1(X_train, Y_train):\n",
    "    params = np.random.randn(6)\n",
    "    steps = 200\n",
    "    learning_rate = 0.1\n",
    "    batch_size =25\n",
    "    opt = qml.NesterovMomentumOptimizer(learning_rate)\n",
    "    \n",
    "    for it in range(steps):\n",
    "        batch_index = np.random.randint(0, len(X_train), (batch_size,))\n",
    "        X_batch = [X_train[i] for i in batch_index]\n",
    "        Y_batch = [Y_train[i] for i in batch_index]\n",
    "        params, cost_new = opt.step_and_cost(lambda v: cost(v, X_batch, Y_batch, circuit = QCNN1), params)\n",
    "        if it % 10 == 0:\n",
    "            print(\"iteration: \", it, \" cost: \", cost_new)\n",
    "    return params\n",
    "\n",
    "def optimization2(X_train, Y_train):\n",
    "    params = np.random.randn(6)\n",
    "    steps = 200\n",
    "    learning_rate = 0.1\n",
    "    batch_size =25\n",
    "    opt = qml.NesterovMomentumOptimizer(learning_rate)\n",
    "    \n",
    "    for it in range(steps):\n",
    "        batch_index = np.random.randint(0, len(X_train), (batch_size,))\n",
    "        X_batch = [X_train[i] for i in batch_index]\n",
    "        Y_batch = [Y_train[i] for i in batch_index]\n",
    "        params, cost_new = opt.step_and_cost(lambda v: cost(v, X_batch, Y_batch, circuit = QCNN2), params)\n",
    "        if it % 10 == 0:\n",
    "            print(\"iteration: \", it, \" cost: \", cost_new)\n",
    "    return params"
   ]
  },
  {
   "cell_type": "markdown",
   "metadata": {},
   "source": [
    "### Results"
   ]
  },
  {
   "cell_type": "code",
   "execution_count": 12,
   "metadata": {},
   "outputs": [],
   "source": [
    "import tensorflow as tf\n",
    "def data_load_and_process(classes = [0,1]):\n",
    "    (x_train, y_train), (x_test, y_test) = tf.keras.datasets.mnist.load_data()\n",
    "    x_train, x_test = x_train[..., np.newaxis]/255.0, x_test[..., np.newaxis]/255.0\n",
    "    \n",
    "    x_train_filter_01 = np.where((y_train == classes[0]) | (y_train == classes[1]))\n",
    "    x_test_filter_01 = np.where((y_test == classes[0]) | (y_test == classes[1]))\n",
    "    \n",
    "    \n",
    "    x_train_01 = x_train[x_train_filter_01]\n",
    "    y_train_01 = y_train[x_train_filter_01]\n",
    "    x_test_01 = x_test[x_test_filter_01]\n",
    "    y_test_01 = y_test[x_test_filter_01]\n",
    "    \n",
    "    \n",
    "    x_train= tf.cast(x_train_01, tf.float32)\n",
    "    x_test=tf.cast(x_test_01, tf.float32)\n",
    "    \n",
    "    x_train = tf.image.resize(x_train[:], (256, 1)).numpy()\n",
    "    x_test = tf.image.resize(x_test[:], (256, 1)).numpy()\n",
    "    \n",
    "    x_train, x_test = tf.squeeze(x_train), tf.squeeze(x_test)\n",
    "                                                                            \n",
    "    return x_train, x_test, y_train_01, y_test_01"
   ]
  },
  {
   "cell_type": "code",
   "execution_count": 17,
   "metadata": {},
   "outputs": [],
   "source": [
    "x_train, x_test, y_train, y_test = data_load_and_process()"
   ]
  },
  {
   "cell_type": "code",
   "execution_count": 14,
   "metadata": {},
   "outputs": [],
   "source": [
    "from sklearn import decomposition\n",
    "\n",
    "pca = decomposition.PCA(n_components = 8)\n",
    "pca.fit(x_train)\n",
    "x_train_pca = pca.transform(x_train)\n",
    "x_test_pca = pca.transform(x_test)"
   ]
  },
  {
   "cell_type": "markdown",
   "metadata": {},
   "source": [
    "Training QCNN with amplitdue encoding.    "
   ]
  },
  {
   "cell_type": "code",
   "execution_count": 20,
   "metadata": {},
   "outputs": [
    {
     "name": "stdout",
     "output_type": "stream",
     "text": [
      "iteration:  0  cost:  0.5799244070608663\n",
      "iteration:  10  cost:  0.3480113041917416\n",
      "iteration:  20  cost:  0.14773295692853852\n",
      "iteration:  30  cost:  0.10292875139292906\n",
      "iteration:  40  cost:  0.10239959187513324\n",
      "iteration:  50  cost:  0.04623878517486909\n",
      "iteration:  60  cost:  0.06792291117609364\n",
      "iteration:  70  cost:  0.12334696779974891\n",
      "iteration:  80  cost:  0.05849950083614769\n",
      "iteration:  90  cost:  0.148977197101996\n",
      "iteration:  100  cost:  0.11801545626952423\n",
      "iteration:  110  cost:  0.08464095161573164\n",
      "iteration:  120  cost:  0.10080178667497157\n",
      "iteration:  130  cost:  0.056427967525085804\n",
      "iteration:  140  cost:  0.2540777200842888\n",
      "iteration:  150  cost:  0.13229944937447605\n",
      "iteration:  160  cost:  0.09029562066455059\n",
      "iteration:  170  cost:  0.10411996322968903\n",
      "iteration:  180  cost:  0.11147801383143617\n",
      "iteration:  190  cost:  0.11052790428925657\n"
     ]
    }
   ],
   "source": [
    "trained_params_QCNN1_amp = optimization1(x_train, y_train)"
   ]
  },
  {
   "cell_type": "code",
   "execution_count": 21,
   "metadata": {},
   "outputs": [
    {
     "name": "stdout",
     "output_type": "stream",
     "text": [
      "iteration:  0  cost:  0.7143454388686875\n",
      "iteration:  10  cost:  0.4815208529665137\n",
      "iteration:  20  cost:  0.40163747292468416\n",
      "iteration:  30  cost:  0.40681878647122505\n",
      "iteration:  40  cost:  0.5861909408339573\n",
      "iteration:  50  cost:  0.4484766498741056\n",
      "iteration:  60  cost:  0.5117695149377027\n",
      "iteration:  70  cost:  0.41619544017102383\n",
      "iteration:  80  cost:  0.2703728814414295\n",
      "iteration:  90  cost:  0.3308741102831155\n",
      "iteration:  100  cost:  0.5888570803407841\n",
      "iteration:  110  cost:  0.47195322429200354\n",
      "iteration:  120  cost:  0.4767377037242238\n",
      "iteration:  130  cost:  0.4694737382112432\n",
      "iteration:  140  cost:  0.39568514285269935\n",
      "iteration:  150  cost:  0.3580749461094057\n",
      "iteration:  160  cost:  0.41718498943117166\n",
      "iteration:  170  cost:  0.4886419647039543\n",
      "iteration:  180  cost:  0.5123714716773169\n",
      "iteration:  190  cost:  0.46004326904541004\n"
     ]
    }
   ],
   "source": [
    "trained_params_QCNN1_pca = optimization1(x_train_pca, y_train)"
   ]
  },
  {
   "cell_type": "code",
   "execution_count": 22,
   "metadata": {},
   "outputs": [
    {
     "name": "stdout",
     "output_type": "stream",
     "text": [
      "iteration:  0  cost:  0.4314084304349942\n",
      "iteration:  10  cost:  0.26724085421128835\n",
      "iteration:  20  cost:  0.3918395363660904\n",
      "iteration:  30  cost:  0.473754895503634\n",
      "iteration:  40  cost:  0.2683007006110869\n",
      "iteration:  50  cost:  0.3476448778459034\n",
      "iteration:  60  cost:  0.2199913958217036\n",
      "iteration:  70  cost:  0.3802733718172898\n",
      "iteration:  80  cost:  0.33423299412546187\n",
      "iteration:  90  cost:  0.23537480581823847\n",
      "iteration:  100  cost:  0.2408518068993868\n",
      "iteration:  110  cost:  0.3358024108373905\n",
      "iteration:  120  cost:  0.33671514207525766\n",
      "iteration:  130  cost:  0.2858186061824559\n",
      "iteration:  140  cost:  0.3879426885379223\n",
      "iteration:  150  cost:  0.36863962549274454\n",
      "iteration:  160  cost:  0.4546251035679306\n",
      "iteration:  170  cost:  0.3234578044508488\n",
      "iteration:  180  cost:  0.24956473113249836\n",
      "iteration:  190  cost:  0.3355540469882403\n"
     ]
    }
   ],
   "source": [
    "trained_params_QCNN2_amp = optimization2(x_train, y_train)"
   ]
  },
  {
   "cell_type": "code",
   "execution_count": 23,
   "metadata": {},
   "outputs": [
    {
     "name": "stdout",
     "output_type": "stream",
     "text": [
      "iteration:  0  cost:  1.0366340293189955\n",
      "iteration:  10  cost:  0.8781091881885733\n",
      "iteration:  20  cost:  0.37842157954014866\n",
      "iteration:  30  cost:  0.6715904763814892\n",
      "iteration:  40  cost:  0.7122920313022096\n",
      "iteration:  50  cost:  0.653351634307137\n",
      "iteration:  60  cost:  0.8195811045840954\n",
      "iteration:  70  cost:  0.3946135040616154\n",
      "iteration:  80  cost:  0.4775672636587857\n",
      "iteration:  90  cost:  0.4807877997979647\n",
      "iteration:  100  cost:  0.35421834848948824\n",
      "iteration:  110  cost:  0.38838073498147396\n",
      "iteration:  120  cost:  0.491659616331758\n",
      "iteration:  130  cost:  0.436727157682012\n",
      "iteration:  140  cost:  0.4926413581774047\n",
      "iteration:  150  cost:  0.42926023460189033\n",
      "iteration:  160  cost:  0.3864186359177387\n",
      "iteration:  170  cost:  0.38978598544287335\n",
      "iteration:  180  cost:  0.5565480755760531\n",
      "iteration:  190  cost:  0.2547157753997454\n"
     ]
    }
   ],
   "source": [
    "trained_params_QCNN2_pca = optimization2(x_train_pca, y_train)"
   ]
  },
  {
   "cell_type": "code",
   "execution_count": 25,
   "metadata": {},
   "outputs": [],
   "source": [
    "predictions1_amp = [QCNN1(x, trained_params_QCNN1_amp) for x in x_test]\n",
    "predictions1_pca = [QCNN1(x, trained_params_QCNN1_pca) for x in x_test_pca]\n",
    "predictions2_amp = [QCNN2(x, trained_params_QCNN2_amp) for x in x_test]\n",
    "predictions2_pca = [QCNN2(x, trained_params_QCNN2_pca) for x in x_test_pca]"
   ]
  },
  {
   "cell_type": "code",
   "execution_count": 30,
   "metadata": {},
   "outputs": [
    {
     "name": "stdout",
     "output_type": "stream",
     "text": [
      "accuracy of QCNN1 with Amplitude Encoding:  0.9044917257683215\n",
      "accuracy of QCNN1 with Angle Encoding:  0.46335697399527187\n",
      "accuracy of QCNN2 with Amplitude Encoding:  0.46335697399527187\n",
      "accuracy of QCNN2 with Angle Encoding:  0.5650118203309693\n"
     ]
    }
   ],
   "source": [
    "accuracy1_amp = accuracy(predictions1_amp, y_test)\n",
    "accuracy1_pca = accuracy(predictions1_pca, y_test)\n",
    "accuracy2_amp = accuracy(predictions2_amp, y_test)\n",
    "accuracy2_pca = accuracy(predictions2_pca, y_test)\n",
    "\n",
    "print(\"accuracy of QCNN1 with Amplitude Encoding: \", accuracy1_amp)\n",
    "print(\"accuracy of QCNN1 with Angle Encoding: \", accuracy1_pca)\n",
    "print(\"accuracy of QCNN2 with Amplitude Encoding: \", accuracy2_amp)\n",
    "print(\"accuracy of QCNN2 with Angle Encoding: \", accuracy2_pca)"
   ]
  },
  {
   "cell_type": "code",
   "execution_count": null,
   "metadata": {},
   "outputs": [],
   "source": []
  }
 ],
 "metadata": {
  "kernelspec": {
   "display_name": "Python 3",
   "language": "python",
   "name": "python3"
  },
  "language_info": {
   "codemirror_mode": {
    "name": "ipython",
    "version": 3
   },
   "file_extension": ".py",
   "mimetype": "text/x-python",
   "name": "python",
   "nbconvert_exporter": "python",
   "pygments_lexer": "ipython3",
   "version": "3.7.9"
  }
 },
 "nbformat": 4,
 "nbformat_minor": 4
}
